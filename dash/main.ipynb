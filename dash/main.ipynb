{
 "cells": [
  {
   "cell_type": "code",
   "execution_count": null,
   "metadata": {},
   "outputs": [],
   "source": [
    "import pandas as pd\n",
    "from glob import glob"
   ]
  },
  {
   "cell_type": "code",
   "execution_count": null,
   "metadata": {},
   "outputs": [],
   "source": [
    "main = pd.read_csv(\"../dataset/combined.csv\")"
   ]
  },
  {
   "cell_type": "code",
   "execution_count": null,
   "metadata": {},
   "outputs": [],
   "source": [
    "comm = set(main[\"community\"].to_list())"
   ]
  },
  {
   "cell_type": "code",
   "execution_count": null,
   "metadata": {},
   "outputs": [],
   "source": [
    "print(len(comm))"
   ]
  },
  {
   "cell_type": "code",
   "execution_count": null,
   "metadata": {},
   "outputs": [],
   "source": [
    "\n",
    "for c in comm:\n",
    "    if c == \"other\":\n",
    "        dff = main.query(\"community == 'other'\")\n",
    "        dff = dff.drop([\"community\"], axis=1)\n",
    "        dff.to_csv(\"./dataset/other.csv\", index=False)\n",
    "        continue\n",
    "    dff = main.query(\"community == \\'{}\\'\".format(c))\n",
    "    dff = dff.drop([\"community\"], axis=1)\n",
    "    dff.to_csv(\"./dataset/{}.csv\".format(c), index=False)\n",
    "    # break\n"
   ]
  },
  {
   "attachments": {},
   "cell_type": "markdown",
   "metadata": {},
   "source": [
    "# add edge component"
   ]
  },
  {
   "cell_type": "code",
   "execution_count": null,
   "metadata": {},
   "outputs": [],
   "source": [
    "all_nodes = [i for i in range(7015)]"
   ]
  },
  {
   "cell_type": "code",
   "execution_count": null,
   "metadata": {},
   "outputs": [],
   "source": [
    "edgeOrdering = [0]*7015"
   ]
  },
  {
   "cell_type": "code",
   "execution_count": null,
   "metadata": {},
   "outputs": [],
   "source": [
    "files = glob(\"dataset\\\\*\")\n",
    "files.pop() # drop the other option"
   ]
  },
  {
   "cell_type": "code",
   "execution_count": null,
   "metadata": {},
   "outputs": [],
   "source": [
    "from collections import Counter"
   ]
  },
  {
   "cell_type": "code",
   "execution_count": null,
   "metadata": {},
   "outputs": [],
   "source": [
    "for file in files:\n",
    "    df = pd.read_csv(file)\n",
    "    nodes = df['node1'].to_list()\n",
    "    count = dict(Counter(nodes))\n",
    "    ordering = []\n",
    "    for i in count:\n",
    "        ordering.append([count[i], i])\n",
    "    ordering.sort(reverse=True)\n",
    "    c = 0\n",
    "    for pair in ordering:\n",
    "        edgeOrdering[pair[1]] = c\n",
    "        c += 1\n",
    "    # break"
   ]
  },
  {
   "cell_type": "code",
   "execution_count": null,
   "metadata": {},
   "outputs": [],
   "source": [
    "print(edgeOrdering)"
   ]
  },
  {
   "attachments": {},
   "cell_type": "markdown",
   "metadata": {},
   "source": [
    "# temporal ordering"
   ]
  },
  {
   "cell_type": "code",
   "execution_count": null,
   "metadata": {},
   "outputs": [],
   "source": [
    "temporalOrdering = [0]*7015"
   ]
  },
  {
   "cell_type": "code",
   "execution_count": null,
   "metadata": {},
   "outputs": [],
   "source": [
    "for file in files[:]:\n",
    "    df = pd.read_csv(file)\n",
    "    df = df.sort_values(by=['temporal_similarity', 'topic_similarity'], ascending=False)\n",
    "    d = set()\n",
    "    c = 0\n",
    "    for node in df['node1'].to_list():\n",
    "        if node not in d:\n",
    "            temporalOrdering[node] = c\n",
    "            c += 1\n",
    "            d.add(node)\n",
    "    # break"
   ]
  },
  {
   "cell_type": "code",
   "execution_count": null,
   "metadata": {},
   "outputs": [],
   "source": [
    "print(temporalOrdering)"
   ]
  },
  {
   "cell_type": "markdown",
   "metadata": {},
   "source": [
    "# temporal ordering"
   ]
  },
  {
   "cell_type": "code",
   "execution_count": null,
   "metadata": {},
   "outputs": [],
   "source": [
    "topicOrdering = [0]*7015"
   ]
  },
  {
   "cell_type": "code",
   "execution_count": null,
   "metadata": {},
   "outputs": [],
   "source": [
    "for file in files[:]:\n",
    "    df = pd.read_csv(file)\n",
    "    df = df.sort_values(by=['topic_similarity', 'temporal_similarity'], ascending=False)\n",
    "    d = set()\n",
    "    c = 0\n",
    "    for node in df['node1'].to_list():\n",
    "        if node not in d:\n",
    "            topicOrdering[node] = c\n",
    "            c += 1\n",
    "            d.add(node)\n",
    "    # break"
   ]
  },
  {
   "cell_type": "code",
   "execution_count": null,
   "metadata": {},
   "outputs": [],
   "source": [
    "print(topicOrdering)"
   ]
  },
  {
   "cell_type": "code",
   "execution_count": null,
   "metadata": {},
   "outputs": [],
   "source": [
    "df = pd.DataFrame(data={\"node\": all_nodes,\n",
    "                        \"edgeOrdering\": edgeOrdering,\n",
    "                        \"topicOrdering\": topicOrdering,\n",
    "                        \"temporalOrdering\": temporalOrdering})"
   ]
  },
  {
   "cell_type": "code",
   "execution_count": null,
   "metadata": {},
   "outputs": [],
   "source": [
    "df.to_csv(\"seriation.csv\", index=False)"
   ]
  },
  {
   "attachments": {},
   "cell_type": "markdown",
   "metadata": {},
   "source": [
    "# community within it"
   ]
  },
  {
   "cell_type": "code",
   "execution_count": null,
   "metadata": {},
   "outputs": [],
   "source": [
    "import community as community_louvain\n",
    "import matplotlib.cm as cm\n",
    "import matplotlib.pyplot as plt\n",
    "import networkx as nx"
   ]
  },
  {
   "cell_type": "code",
   "execution_count": null,
   "metadata": {},
   "outputs": [],
   "source": [
    "communityOrdering = [0]*7015"
   ]
  },
  {
   "cell_type": "code",
   "execution_count": null,
   "metadata": {},
   "outputs": [],
   "source": [
    "kool = 1\n",
    "for file in files:\n",
    "    print(kool)\n",
    "    kool+=1\n",
    "    G = nx.Graph()\n",
    "    dff = pd.read_csv(file)\n",
    "    # G.add_nodes_from(set(dff['node1'].to_list()))\n",
    "    for ind in dff.index:\n",
    "        G.add_edge(dff[\"node1\"][ind], dff[\"node2\"][ind])\n",
    "    \n",
    "    partition = nx.community.louvain_communities(G)\n",
    "    # print(partition)\n",
    "    c = 0\n",
    "    for part in partition:\n",
    "        for i in part:\n",
    "            communityOrdering[i] = c\n",
    "            c += 1"
   ]
  },
  {
   "cell_type": "code",
   "execution_count": null,
   "metadata": {},
   "outputs": [],
   "source": [
    "df[\"communityOrdering\"] = communityOrdering\n",
    "df.to_csv(\"seriation.csv\", index=False)"
   ]
  }
 ],
 "metadata": {
  "kernelspec": {
   "display_name": "Python 3",
   "language": "python",
   "name": "python3"
  },
  "language_info": {
   "codemirror_mode": {
    "name": "ipython",
    "version": 3
   },
   "file_extension": ".py",
   "mimetype": "text/x-python",
   "name": "python",
   "nbconvert_exporter": "python",
   "pygments_lexer": "ipython3",
   "version": "3.11.2"
  },
  "orig_nbformat": 4
 },
 "nbformat": 4,
 "nbformat_minor": 2
}
