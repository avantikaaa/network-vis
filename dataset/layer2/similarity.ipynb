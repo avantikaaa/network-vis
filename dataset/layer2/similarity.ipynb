{
 "cells": [
  {
   "cell_type": "code",
   "execution_count": 1,
   "metadata": {},
   "outputs": [],
   "source": [
    "import pandas as pd"
   ]
  },
  {
   "cell_type": "code",
   "execution_count": 2,
   "metadata": {},
   "outputs": [],
   "source": [
    "dataset = pd.read_csv(\"../IEEE VIS papers 1990-2021 - Main dataset.csv\")\n",
    "dataset = dataset[[\"AuthorNames\", \"AuthorKeywords\"]]\n",
    "dataset = dataset.dropna()"
   ]
  },
  {
   "cell_type": "code",
   "execution_count": 3,
   "metadata": {},
   "outputs": [],
   "source": [
    "authorId = pd.read_csv(\"../authorToInt.csv\")"
   ]
  },
  {
   "cell_type": "code",
   "execution_count": 4,
   "metadata": {},
   "outputs": [],
   "source": [
    "getId = {}\n",
    "for ind in authorId.index:\n",
    "\t# print(ind)\n",
    "\tgetId[authorId[\"author\"][ind]] = authorId[\"id\"][ind]"
   ]
  },
  {
   "cell_type": "code",
   "execution_count": 5,
   "metadata": {},
   "outputs": [],
   "source": [
    "from collections import defaultdict\n",
    "def emptystring():\n",
    "\treturn \"\""
   ]
  },
  {
   "cell_type": "code",
   "execution_count": 6,
   "metadata": {},
   "outputs": [],
   "source": [
    "authorData = defaultdict(emptystring)\n",
    "for ind in dataset.index:\n",
    "\tauthors = dataset[\"AuthorNames\"][ind].split(\";\")\n",
    "\tkeywords = ''.join(c for c in \" \".join(dataset[\"AuthorKeywords\"][ind].split(\", \")).lower() if c.isalnum() or c == \" \")\n",
    "\tfor author in authors:\n",
    "\t\tauthorData[getId[author]] += keywords"
   ]
  },
  {
   "cell_type": "code",
   "execution_count": 7,
   "metadata": {},
   "outputs": [],
   "source": [
    "def dictToCSV(d, name1, name2, filename):\n",
    "\tnode = []\n",
    "\tcomm = []\n",
    "\tfor key in d:\n",
    "\t\tnode.append(key)\n",
    "\t\tcomm.append(d[key])\n",
    "\t\n",
    "\tdf = pd.DataFrame({name1: node, name2: comm})\n",
    "\tdf.to_csv(filename, index=False)\n",
    "\treturn df"
   ]
  },
  {
   "cell_type": "code",
   "execution_count": 8,
   "metadata": {},
   "outputs": [
    {
     "data": {
      "text/html": [
       "<div>\n",
       "<style scoped>\n",
       "    .dataframe tbody tr th:only-of-type {\n",
       "        vertical-align: middle;\n",
       "    }\n",
       "\n",
       "    .dataframe tbody tr th {\n",
       "        vertical-align: top;\n",
       "    }\n",
       "\n",
       "    .dataframe thead th {\n",
       "        text-align: right;\n",
       "    }\n",
       "</style>\n",
       "<table border=\"1\" class=\"dataframe\">\n",
       "  <thead>\n",
       "    <tr style=\"text-align: right;\">\n",
       "      <th></th>\n",
       "      <th>id</th>\n",
       "      <th>keywords</th>\n",
       "    </tr>\n",
       "  </thead>\n",
       "  <tbody>\n",
       "    <tr>\n",
       "      <th>0</th>\n",
       "      <td>0</td>\n",
       "      <td>information visualization user interfaces tool...</td>\n",
       "    </tr>\n",
       "    <tr>\n",
       "      <th>1</th>\n",
       "      <td>1</td>\n",
       "      <td>information visualization user interfaces tool...</td>\n",
       "    </tr>\n",
       "    <tr>\n",
       "      <th>2</th>\n",
       "      <td>2</td>\n",
       "      <td>information visualization user interfaces tool...</td>\n",
       "    </tr>\n",
       "    <tr>\n",
       "      <th>3</th>\n",
       "      <td>7</td>\n",
       "      <td>triangle bintree viewdependent mesh frametofra...</td>\n",
       "    </tr>\n",
       "    <tr>\n",
       "      <th>4</th>\n",
       "      <td>8</td>\n",
       "      <td>triangle bintree viewdependent mesh frametofra...</td>\n",
       "    </tr>\n",
       "    <tr>\n",
       "      <th>...</th>\n",
       "      <td>...</td>\n",
       "      <td>...</td>\n",
       "    </tr>\n",
       "    <tr>\n",
       "      <th>5426</th>\n",
       "      <td>6987</td>\n",
       "      <td>highdimensional data visualizationsecure visua...</td>\n",
       "    </tr>\n",
       "    <tr>\n",
       "      <th>5427</th>\n",
       "      <td>7076</td>\n",
       "      <td>computational geometry object modeling geometr...</td>\n",
       "    </tr>\n",
       "    <tr>\n",
       "      <th>5428</th>\n",
       "      <td>7077</td>\n",
       "      <td>computational geometry object modeling geometr...</td>\n",
       "    </tr>\n",
       "    <tr>\n",
       "      <th>5429</th>\n",
       "      <td>7100</td>\n",
       "      <td>camera planning information visualization mult...</td>\n",
       "    </tr>\n",
       "    <tr>\n",
       "      <th>5430</th>\n",
       "      <td>7101</td>\n",
       "      <td>critical point theory morsesmale complexes ter...</td>\n",
       "    </tr>\n",
       "  </tbody>\n",
       "</table>\n",
       "<p>5431 rows × 2 columns</p>\n",
       "</div>"
      ],
      "text/plain": [
       "        id                                           keywords\n",
       "0        0  information visualization user interfaces tool...\n",
       "1        1  information visualization user interfaces tool...\n",
       "2        2  information visualization user interfaces tool...\n",
       "3        7  triangle bintree viewdependent mesh frametofra...\n",
       "4        8  triangle bintree viewdependent mesh frametofra...\n",
       "...    ...                                                ...\n",
       "5426  6987  highdimensional data visualizationsecure visua...\n",
       "5427  7076  computational geometry object modeling geometr...\n",
       "5428  7077  computational geometry object modeling geometr...\n",
       "5429  7100  camera planning information visualization mult...\n",
       "5430  7101  critical point theory morsesmale complexes ter...\n",
       "\n",
       "[5431 rows x 2 columns]"
      ]
     },
     "execution_count": 8,
     "metadata": {},
     "output_type": "execute_result"
    }
   ],
   "source": [
    "dictToCSV(authorData, \"id\", \"keywords\", \"keywords.csv\")"
   ]
  },
  {
   "cell_type": "code",
   "execution_count": 9,
   "metadata": {},
   "outputs": [],
   "source": [
    "import numpy as np"
   ]
  },
  {
   "cell_type": "code",
   "execution_count": 10,
   "metadata": {},
   "outputs": [],
   "source": [
    "mat = np.reshape(np.fromfile(\"./sim_mat\", dtype=float), (7102, 7102))"
   ]
  },
  {
   "cell_type": "code",
   "execution_count": 11,
   "metadata": {},
   "outputs": [
    {
     "name": "stdout",
     "output_type": "stream",
     "text": [
      "7102 7102\n"
     ]
    }
   ],
   "source": [
    "print(len(mat), len(mat[0]))"
   ]
  },
  {
   "cell_type": "code",
   "execution_count": 12,
   "metadata": {},
   "outputs": [],
   "source": [
    "import spacy\n",
    "nlp = spacy.load(\"en_core_web_md\")"
   ]
  },
  {
   "cell_type": "code",
   "execution_count": 13,
   "metadata": {},
   "outputs": [],
   "source": [
    "i = 4670"
   ]
  },
  {
   "cell_type": "code",
   "execution_count": 17,
   "metadata": {},
   "outputs": [
    {
     "name": "stderr",
     "output_type": "stream",
     "text": [
      "Traceback (most recent call last):\n",
      "  File \"_pydevd_bundle/pydevd_cython.pyx\", line 1081, in _pydevd_bundle.pydevd_cython.PyDBFrame.trace_dispatch\n",
      "  File \"_pydevd_bundle/pydevd_cython.pyx\", line 297, in _pydevd_bundle.pydevd_cython.PyDBFrame.do_wait_suspend\n",
      "  File \"C:\\Users\\madhu\\AppData\\Local\\Packages\\PythonSoftwareFoundation.Python.3.10_qbz5n2kfra8p0\\LocalCache\\local-packages\\Python310\\site-packages\\debugpy\\_vendored\\pydevd\\pydevd.py\", line 2023, in do_wait_suspend\n",
      "    keep_suspended = self._do_wait_suspend(thread, frame, event, arg, suspend_type, from_this_thread, frames_tracker)\n",
      "  File \"C:\\Users\\madhu\\AppData\\Local\\Packages\\PythonSoftwareFoundation.Python.3.10_qbz5n2kfra8p0\\LocalCache\\local-packages\\Python310\\site-packages\\debugpy\\_vendored\\pydevd\\pydevd.py\", line 2059, in _do_wait_suspend\n",
      "    time.sleep(0.01)\n",
      "KeyboardInterrupt\n"
     ]
    },
    {
     "ename": "KeyboardInterrupt",
     "evalue": "",
     "output_type": "error",
     "traceback": [
      "\u001b[1;31m---------------------------------------------------------------------------\u001b[0m",
      "\u001b[1;31mKeyboardInterrupt\u001b[0m                         Traceback (most recent call last)",
      "\u001b[1;32me:\\college\\sem8\\network-vis\\dataset\\layer2\\similarity.ipynb Cell 14\u001b[0m in \u001b[0;36m<cell line: 1>\u001b[1;34m()\u001b[0m\n\u001b[1;32m----> <a href='vscode-notebook-cell:/e%3A/college/sem8/network-vis/dataset/layer2/similarity.ipynb#X16sZmlsZQ%3D%3D?line=0'>1</a>\u001b[0m \u001b[39mwhile\u001b[39;00m (i \u001b[39m<\u001b[39m \u001b[39m7102\u001b[39m):\n\u001b[0;32m      <a href='vscode-notebook-cell:/e%3A/college/sem8/network-vis/dataset/layer2/similarity.ipynb#X16sZmlsZQ%3D%3D?line=1'>2</a>\u001b[0m \t\u001b[39m# print(i)\u001b[39;00m\n\u001b[0;32m      <a href='vscode-notebook-cell:/e%3A/college/sem8/network-vis/dataset/layer2/similarity.ipynb#X16sZmlsZQ%3D%3D?line=2'>3</a>\u001b[0m \t\u001b[39mfor\u001b[39;00m j \u001b[39min\u001b[39;00m \u001b[39mrange\u001b[39m(i):\n\u001b[0;32m      <a href='vscode-notebook-cell:/e%3A/college/sem8/network-vis/dataset/layer2/similarity.ipynb#X16sZmlsZQ%3D%3D?line=3'>4</a>\u001b[0m \t\tmat[i][j] \u001b[39m=\u001b[39m mat[j][i]\n",
      "\u001b[1;32me:\\college\\sem8\\network-vis\\dataset\\layer2\\similarity.ipynb Cell 14\u001b[0m in \u001b[0;36m<cell line: 1>\u001b[1;34m()\u001b[0m\n\u001b[1;32m----> <a href='vscode-notebook-cell:/e%3A/college/sem8/network-vis/dataset/layer2/similarity.ipynb#X16sZmlsZQ%3D%3D?line=0'>1</a>\u001b[0m \u001b[39mwhile\u001b[39;00m (i \u001b[39m<\u001b[39m \u001b[39m7102\u001b[39m):\n\u001b[0;32m      <a href='vscode-notebook-cell:/e%3A/college/sem8/network-vis/dataset/layer2/similarity.ipynb#X16sZmlsZQ%3D%3D?line=1'>2</a>\u001b[0m \t\u001b[39m# print(i)\u001b[39;00m\n\u001b[0;32m      <a href='vscode-notebook-cell:/e%3A/college/sem8/network-vis/dataset/layer2/similarity.ipynb#X16sZmlsZQ%3D%3D?line=2'>3</a>\u001b[0m \t\u001b[39mfor\u001b[39;00m j \u001b[39min\u001b[39;00m \u001b[39mrange\u001b[39m(i):\n\u001b[0;32m      <a href='vscode-notebook-cell:/e%3A/college/sem8/network-vis/dataset/layer2/similarity.ipynb#X16sZmlsZQ%3D%3D?line=3'>4</a>\u001b[0m \t\tmat[i][j] \u001b[39m=\u001b[39m mat[j][i]\n",
      "File \u001b[1;32m_pydevd_bundle/pydevd_cython.pyx:1366\u001b[0m, in \u001b[0;36m_pydevd_bundle.pydevd_cython.SafeCallWrapper.__call__\u001b[1;34m()\u001b[0m\n",
      "File \u001b[1;32m_pydevd_bundle/pydevd_cython.pyx:662\u001b[0m, in \u001b[0;36m_pydevd_bundle.pydevd_cython.PyDBFrame.trace_dispatch\u001b[1;34m()\u001b[0m\n",
      "File \u001b[1;32m_pydevd_bundle/pydevd_cython.pyx:1090\u001b[0m, in \u001b[0;36m_pydevd_bundle.pydevd_cython.PyDBFrame.trace_dispatch\u001b[1;34m()\u001b[0m\n",
      "File \u001b[1;32m_pydevd_bundle/pydevd_cython.pyx:1081\u001b[0m, in \u001b[0;36m_pydevd_bundle.pydevd_cython.PyDBFrame.trace_dispatch\u001b[1;34m()\u001b[0m\n",
      "File \u001b[1;32m_pydevd_bundle/pydevd_cython.pyx:297\u001b[0m, in \u001b[0;36m_pydevd_bundle.pydevd_cython.PyDBFrame.do_wait_suspend\u001b[1;34m()\u001b[0m\n",
      "File \u001b[1;32m~\\AppData\\Local\\Packages\\PythonSoftwareFoundation.Python.3.10_qbz5n2kfra8p0\\LocalCache\\local-packages\\Python310\\site-packages\\debugpy\\_vendored\\pydevd\\pydevd.py:2023\u001b[0m, in \u001b[0;36mPyDB.do_wait_suspend\u001b[1;34m(self, thread, frame, event, arg, exception_type)\u001b[0m\n\u001b[0;32m   2020\u001b[0m             from_this_thread\u001b[39m.\u001b[39mappend(frame_custom_thread_id)\n\u001b[0;32m   2022\u001b[0m     \u001b[39mwith\u001b[39;00m \u001b[39mself\u001b[39m\u001b[39m.\u001b[39m_threads_suspended_single_notification\u001b[39m.\u001b[39mnotify_thread_suspended(thread_id, stop_reason):\n\u001b[1;32m-> 2023\u001b[0m         keep_suspended \u001b[39m=\u001b[39m \u001b[39mself\u001b[39;49m\u001b[39m.\u001b[39;49m_do_wait_suspend(thread, frame, event, arg, suspend_type, from_this_thread, frames_tracker)\n\u001b[0;32m   2025\u001b[0m frames_list \u001b[39m=\u001b[39m \u001b[39mNone\u001b[39;00m\n\u001b[0;32m   2027\u001b[0m \u001b[39mif\u001b[39;00m keep_suspended:\n\u001b[0;32m   2028\u001b[0m     \u001b[39m# This means that we should pause again after a set next statement.\u001b[39;00m\n",
      "File \u001b[1;32m~\\AppData\\Local\\Packages\\PythonSoftwareFoundation.Python.3.10_qbz5n2kfra8p0\\LocalCache\\local-packages\\Python310\\site-packages\\debugpy\\_vendored\\pydevd\\pydevd.py:2059\u001b[0m, in \u001b[0;36mPyDB._do_wait_suspend\u001b[1;34m(self, thread, frame, event, arg, suspend_type, from_this_thread, frames_tracker)\u001b[0m\n\u001b[0;32m   2056\u001b[0m         \u001b[39mself\u001b[39m\u001b[39m.\u001b[39m_call_input_hook()\n\u001b[0;32m   2058\u001b[0m     \u001b[39mself\u001b[39m\u001b[39m.\u001b[39mprocess_internal_commands()\n\u001b[1;32m-> 2059\u001b[0m     time\u001b[39m.\u001b[39;49msleep(\u001b[39m0.01\u001b[39;49m)\n\u001b[0;32m   2061\u001b[0m \u001b[39mself\u001b[39m\u001b[39m.\u001b[39mcancel_async_evaluation(get_current_thread_id(thread), \u001b[39mstr\u001b[39m(\u001b[39mid\u001b[39m(frame)))\n\u001b[0;32m   2063\u001b[0m \u001b[39m# process any stepping instructions\u001b[39;00m\n",
      "\u001b[1;31mKeyboardInterrupt\u001b[0m: "
     ]
    }
   ],
   "source": [
    "while (i < 7102):\n",
    "\t# print(i)\n",
    "\tfor j in range(i):\n",
    "\t\tmat[i][j] = mat[j][i]\n",
    "\tmat[i][i] = 1\n",
    "\tfor j in range(i+1, 7102):\n",
    "\t\tmat[i][j] = nlp(authorData[i]).similarity(nlp(authorData[j]))\n",
    "\ti += 1\n",
    "\tif i % 100 == 0:\n",
    "\t\tprint(i)\n",
    "\t\tmat.tofile(\"sim_mat\")\n"
   ]
  },
  {
   "cell_type": "code",
   "execution_count": 20,
   "metadata": {},
   "outputs": [],
   "source": [
    "for i in range(0, 7101):\n",
    "    if sum(mat[i]) == 0:\n",
    "        print(i)\n",
    "        "
   ]
  },
  {
   "cell_type": "code",
   "execution_count": 18,
   "metadata": {},
   "outputs": [
    {
     "name": "stdout",
     "output_type": "stream",
     "text": [
      "7102\n"
     ]
    }
   ],
   "source": [
    "print(i)"
   ]
  },
  {
   "cell_type": "code",
   "execution_count": 19,
   "metadata": {},
   "outputs": [],
   "source": [
    "mat.tofile(\"sim_mat\")"
   ]
  },
  {
   "cell_type": "code",
   "execution_count": null,
   "metadata": {},
   "outputs": [],
   "source": []
  },
  {
   "cell_type": "code",
   "execution_count": null,
   "metadata": {},
   "outputs": [],
   "source": []
  },
  {
   "cell_type": "code",
   "execution_count": null,
   "metadata": {},
   "outputs": [],
   "source": []
  },
  {
   "cell_type": "code",
   "execution_count": null,
   "metadata": {},
   "outputs": [],
   "source": []
  },
  {
   "attachments": {},
   "cell_type": "markdown",
   "metadata": {},
   "source": [
    "# Convert sim_mat to csv.zip"
   ]
  },
  {
   "cell_type": "code",
   "execution_count": 3,
   "metadata": {},
   "outputs": [],
   "source": [
    "import numpy as np\n",
    "import pandas as pd"
   ]
  },
  {
   "cell_type": "code",
   "execution_count": 4,
   "metadata": {},
   "outputs": [],
   "source": [
    "mat = np.reshape(np.fromfile(\"./sim_mat\", dtype=float), (7102, 7102))"
   ]
  },
  {
   "cell_type": "code",
   "execution_count": 5,
   "metadata": {},
   "outputs": [],
   "source": [
    "rows = [i for i in range(7102)]"
   ]
  },
  {
   "cell_type": "code",
   "execution_count": 6,
   "metadata": {},
   "outputs": [],
   "source": [
    "df = pd.DataFrame(mat[:3552])"
   ]
  },
  {
   "cell_type": "code",
   "execution_count": 7,
   "metadata": {},
   "outputs": [],
   "source": [
    "# df.describe()"
   ]
  },
  {
   "cell_type": "code",
   "execution_count": 23,
   "metadata": {},
   "outputs": [
    {
     "name": "stdout",
     "output_type": "stream",
     "text": [
      "0\n"
     ]
    }
   ],
   "source": [
    "iter = 6\n",
    "num = 4734\n",
    "for i in range(iter):\n",
    "\tprint(i)\n",
    "\tstart = i * num//iter\n",
    "\tend = (i+1) * num//iter\n",
    "\t# print(start, end)\n",
    "\tdf = pd.DataFrame(mat[start: end], index = [j for j in range(start, end)])\n",
    "\tdf.to_csv(\"similarity_\" + str(start) + \"_\" +str(end) + \".csv.zip\", compression= \"zip\")"
   ]
  },
  {
   "cell_type": "code",
   "execution_count": 10,
   "metadata": {},
   "outputs": [],
   "source": [
    "df.to_csv(\"similarity1.csv.zip\", compression = \"zip\")"
   ]
  },
  {
   "cell_type": "code",
   "execution_count": 11,
   "metadata": {},
   "outputs": [],
   "source": [
    "df = pd.DataFrame(mat[3552:])\n",
    "df.to_csv(\"similarity2.csv.zip\", compression = \"zip\")"
   ]
  },
  {
   "cell_type": "code",
   "execution_count": null,
   "metadata": {},
   "outputs": [],
   "source": []
  }
 ],
 "metadata": {
  "kernelspec": {
   "display_name": "Python 3",
   "language": "python",
   "name": "python3"
  },
  "language_info": {
   "codemirror_mode": {
    "name": "ipython",
    "version": 3
   },
   "file_extension": ".py",
   "mimetype": "text/x-python",
   "name": "python",
   "nbconvert_exporter": "python",
   "pygments_lexer": "ipython3",
   "version": "3.10.10"
  },
  "orig_nbformat": 4,
  "vscode": {
   "interpreter": {
    "hash": "4051656f17272293e13481fcb2eac6d4c86c227ad0d67b419082fe6c72272934"
   }
  }
 },
 "nbformat": 4,
 "nbformat_minor": 2
}
