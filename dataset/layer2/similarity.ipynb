{
 "cells": [
  {
   "cell_type": "code",
   "execution_count": 1,
   "metadata": {},
   "outputs": [],
   "source": [
    "import pandas as pd"
   ]
  },
  {
   "cell_type": "code",
   "execution_count": 3,
   "metadata": {},
   "outputs": [],
   "source": [
    "dataset = pd.read_csv(\"../IEEE VIS papers 1990-2021 - Main dataset.csv\")\n",
    "dataset = dataset[[\"AuthorNames\", \"AuthorKeywords\"]]\n",
    "dataset = dataset.dropna()"
   ]
  },
  {
   "cell_type": "code",
   "execution_count": 5,
   "metadata": {},
   "outputs": [],
   "source": [
    "authorId = pd.read_csv(\"../authorToInt.csv\")"
   ]
  },
  {
   "cell_type": "code",
   "execution_count": 9,
   "metadata": {},
   "outputs": [],
   "source": [
    "getId = {}\n",
    "for ind in authorId.index:\n",
    "\t# print(ind)\n",
    "\tgetId[authorId[\"author\"][ind]] = authorId[\"id\"][ind]"
   ]
  },
  {
   "cell_type": "code",
   "execution_count": 11,
   "metadata": {},
   "outputs": [],
   "source": [
    "from collections import defaultdict\n",
    "def emptystring():\n",
    "\treturn \"\""
   ]
  },
  {
   "cell_type": "code",
   "execution_count": 21,
   "metadata": {},
   "outputs": [],
   "source": [
    "authorData = defaultdict(emptystring)\n",
    "for ind in dataset.index:\n",
    "\tauthors = dataset[\"AuthorNames\"][ind].split(\";\")\n",
    "\tkeywords = ''.join(c for c in \" \".join(dataset[\"AuthorKeywords\"][ind].split(\", \")).lower() if c.isalnum() or c == \" \")\n",
    "\tfor author in authors:\n",
    "\t\tauthorData[getId[author]] += keywords"
   ]
  },
  {
   "cell_type": "code",
   "execution_count": 22,
   "metadata": {},
   "outputs": [],
   "source": [
    "def dictToCSV(d, name1, name2, filename):\n",
    "\tnode = []\n",
    "\tcomm = []\n",
    "\tfor key in d:\n",
    "\t\tnode.append(key)\n",
    "\t\tcomm.append(d[key])\n",
    "\t\n",
    "\tdf = pd.DataFrame({name1: node, name2: comm})\n",
    "\tdf.to_csv(filename, index=False)\n",
    "\treturn df"
   ]
  },
  {
   "cell_type": "code",
   "execution_count": 23,
   "metadata": {},
   "outputs": [
    {
     "data": {
      "text/html": [
       "<div>\n",
       "<style scoped>\n",
       "    .dataframe tbody tr th:only-of-type {\n",
       "        vertical-align: middle;\n",
       "    }\n",
       "\n",
       "    .dataframe tbody tr th {\n",
       "        vertical-align: top;\n",
       "    }\n",
       "\n",
       "    .dataframe thead th {\n",
       "        text-align: right;\n",
       "    }\n",
       "</style>\n",
       "<table border=\"1\" class=\"dataframe\">\n",
       "  <thead>\n",
       "    <tr style=\"text-align: right;\">\n",
       "      <th></th>\n",
       "      <th>id</th>\n",
       "      <th>keywords</th>\n",
       "    </tr>\n",
       "  </thead>\n",
       "  <tbody>\n",
       "    <tr>\n",
       "      <th>0</th>\n",
       "      <td>0</td>\n",
       "      <td>information visualization user interfaces tool...</td>\n",
       "    </tr>\n",
       "    <tr>\n",
       "      <th>1</th>\n",
       "      <td>1</td>\n",
       "      <td>information visualization user interfaces tool...</td>\n",
       "    </tr>\n",
       "    <tr>\n",
       "      <th>2</th>\n",
       "      <td>2</td>\n",
       "      <td>information visualization user interfaces tool...</td>\n",
       "    </tr>\n",
       "    <tr>\n",
       "      <th>3</th>\n",
       "      <td>7</td>\n",
       "      <td>triangle bintree viewdependent mesh frametofra...</td>\n",
       "    </tr>\n",
       "    <tr>\n",
       "      <th>4</th>\n",
       "      <td>8</td>\n",
       "      <td>triangle bintree viewdependent mesh frametofra...</td>\n",
       "    </tr>\n",
       "    <tr>\n",
       "      <th>...</th>\n",
       "      <td>...</td>\n",
       "      <td>...</td>\n",
       "    </tr>\n",
       "    <tr>\n",
       "      <th>5426</th>\n",
       "      <td>6987</td>\n",
       "      <td>highdimensional data visualizationsecure visua...</td>\n",
       "    </tr>\n",
       "    <tr>\n",
       "      <th>5427</th>\n",
       "      <td>7076</td>\n",
       "      <td>computational geometry object modeling geometr...</td>\n",
       "    </tr>\n",
       "    <tr>\n",
       "      <th>5428</th>\n",
       "      <td>7077</td>\n",
       "      <td>computational geometry object modeling geometr...</td>\n",
       "    </tr>\n",
       "    <tr>\n",
       "      <th>5429</th>\n",
       "      <td>7100</td>\n",
       "      <td>camera planning information visualization mult...</td>\n",
       "    </tr>\n",
       "    <tr>\n",
       "      <th>5430</th>\n",
       "      <td>7101</td>\n",
       "      <td>critical point theory morsesmale complexes ter...</td>\n",
       "    </tr>\n",
       "  </tbody>\n",
       "</table>\n",
       "<p>5431 rows × 2 columns</p>\n",
       "</div>"
      ],
      "text/plain": [
       "        id                                           keywords\n",
       "0        0  information visualization user interfaces tool...\n",
       "1        1  information visualization user interfaces tool...\n",
       "2        2  information visualization user interfaces tool...\n",
       "3        7  triangle bintree viewdependent mesh frametofra...\n",
       "4        8  triangle bintree viewdependent mesh frametofra...\n",
       "...    ...                                                ...\n",
       "5426  6987  highdimensional data visualizationsecure visua...\n",
       "5427  7076  computational geometry object modeling geometr...\n",
       "5428  7077  computational geometry object modeling geometr...\n",
       "5429  7100  camera planning information visualization mult...\n",
       "5430  7101  critical point theory morsesmale complexes ter...\n",
       "\n",
       "[5431 rows x 2 columns]"
      ]
     },
     "execution_count": 23,
     "metadata": {},
     "output_type": "execute_result"
    }
   ],
   "source": [
    "dictToCSV(authorData, \"id\", \"keywords\", \"keywords.csv\")"
   ]
  },
  {
   "cell_type": "code",
   "execution_count": 24,
   "metadata": {},
   "outputs": [],
   "source": [
    "import numpy as np"
   ]
  },
  {
   "cell_type": "code",
   "execution_count": 25,
   "metadata": {},
   "outputs": [],
   "source": [
    "mat = np.zeros([7102, 7102])"
   ]
  },
  {
   "cell_type": "code",
   "execution_count": 34,
   "metadata": {},
   "outputs": [],
   "source": [
    "import spacy\n",
    "nlp = spacy.load(\"en_core_web_md\")"
   ]
  },
  {
   "cell_type": "code",
   "execution_count": 35,
   "metadata": {},
   "outputs": [
    {
     "name": "stdout",
     "output_type": "stream",
     "text": [
      "10,"
     ]
    },
    {
     "name": "stderr",
     "output_type": "stream",
     "text": [
      "C:\\Users\\madhu\\AppData\\Local\\Temp\\ipykernel_19200\\3252067633.py:7: UserWarning: [W008] Evaluating Doc.similarity based on empty vectors.\n",
      "  mat[i][j] = nlp(authorData[i]).similarity(nlp(authorData[j]))\n"
     ]
    },
    {
     "name": "stdout",
     "output_type": "stream",
     "text": [
      "11,12,13,14,15,"
     ]
    }
   ],
   "source": [
    "for i in range(10, 1000):\n",
    "\tprint(i, end = \",\")\n",
    "\tfor j in range(i):\n",
    "\t\tmat[i][j] = mat[j][i]\n",
    "\tmat[i][i] = 1\n",
    "\tfor j in range(i+1, 7102):\n",
    "\t\tmat[i][j] = nlp(authorData[i]).similarity(nlp(authorData[j]))\n"
   ]
  },
  {
   "cell_type": "code",
   "execution_count": null,
   "metadata": {},
   "outputs": [],
   "source": []
  }
 ],
 "metadata": {
  "kernelspec": {
   "display_name": "Python 3",
   "language": "python",
   "name": "python3"
  },
  "language_info": {
   "codemirror_mode": {
    "name": "ipython",
    "version": 3
   },
   "file_extension": ".py",
   "mimetype": "text/x-python",
   "name": "python",
   "nbconvert_exporter": "python",
   "pygments_lexer": "ipython3",
   "version": "3.10.10"
  },
  "orig_nbformat": 4,
  "vscode": {
   "interpreter": {
    "hash": "4051656f17272293e13481fcb2eac6d4c86c227ad0d67b419082fe6c72272934"
   }
  }
 },
 "nbformat": 4,
 "nbformat_minor": 2
}
