{
 "cells": [
  {
   "cell_type": "code",
   "execution_count": 1,
   "metadata": {},
   "outputs": [],
   "source": [
    "import pandas as pd\n",
    "\n",
    "df_auth = pd.read_csv(\"../layer1/community.csv\")\n",
    "\n",
    "\n",
    "def dictToCSV(d, name1, name2, filename):\n",
    "\tnode = []\n",
    "\tcomm = []\n",
    "\tfor key in d:\n",
    "\t\tnode.append(key)\n",
    "\t\tcomm.append(d[key])\n",
    "\t\n",
    "\tdf = pd.DataFrame({name1: node, name2: comm})\n",
    "\tdf.to_csv(filename, index=False)\n",
    "\treturn df"
   ]
  },
  {
   "cell_type": "code",
   "execution_count": 2,
   "metadata": {},
   "outputs": [],
   "source": [
    "authors = {}\n",
    "i = 0\n",
    "mat = []\n",
    "for auth in df_auth[\"author\"].to_list():\n",
    "\tauthors[auth] = i\n",
    "\tmat.append([0]*(26))\n",
    "\tmat[i][0] = i\n",
    "\ti += 1\n"
   ]
  },
  {
   "cell_type": "code",
   "execution_count": 3,
   "metadata": {},
   "outputs": [
    {
     "data": {
      "text/html": [
       "<div>\n",
       "<style scoped>\n",
       "    .dataframe tbody tr th:only-of-type {\n",
       "        vertical-align: middle;\n",
       "    }\n",
       "\n",
       "    .dataframe tbody tr th {\n",
       "        vertical-align: top;\n",
       "    }\n",
       "\n",
       "    .dataframe thead th {\n",
       "        text-align: right;\n",
       "    }\n",
       "</style>\n",
       "<table border=\"1\" class=\"dataframe\">\n",
       "  <thead>\n",
       "    <tr style=\"text-align: right;\">\n",
       "      <th></th>\n",
       "      <th>author</th>\n",
       "      <th>num</th>\n",
       "    </tr>\n",
       "  </thead>\n",
       "  <tbody>\n",
       "    <tr>\n",
       "      <th>0</th>\n",
       "      <td>Michael Bostock</td>\n",
       "      <td>0</td>\n",
       "    </tr>\n",
       "    <tr>\n",
       "      <th>1</th>\n",
       "      <td>Vadim Ogievetsky</td>\n",
       "      <td>1</td>\n",
       "    </tr>\n",
       "    <tr>\n",
       "      <th>2</th>\n",
       "      <td>Jeffrey Heer</td>\n",
       "      <td>2</td>\n",
       "    </tr>\n",
       "    <tr>\n",
       "      <th>3</th>\n",
       "      <td>B. Johnson</td>\n",
       "      <td>3</td>\n",
       "    </tr>\n",
       "    <tr>\n",
       "      <th>4</th>\n",
       "      <td>B. Shneiderman</td>\n",
       "      <td>4</td>\n",
       "    </tr>\n",
       "    <tr>\n",
       "      <th>...</th>\n",
       "      <td>...</td>\n",
       "      <td>...</td>\n",
       "    </tr>\n",
       "    <tr>\n",
       "      <th>7010</th>\n",
       "      <td>G. Almasi</td>\n",
       "      <td>7010</td>\n",
       "    </tr>\n",
       "    <tr>\n",
       "      <th>7011</th>\n",
       "      <td>S. Kuschfeldt</td>\n",
       "      <td>7011</td>\n",
       "    </tr>\n",
       "    <tr>\n",
       "      <th>7012</th>\n",
       "      <td>M. Holzner</td>\n",
       "      <td>7012</td>\n",
       "    </tr>\n",
       "    <tr>\n",
       "      <th>7013</th>\n",
       "      <td>B.M. Dennis</td>\n",
       "      <td>7013</td>\n",
       "    </tr>\n",
       "    <tr>\n",
       "      <th>7014</th>\n",
       "      <td>P.-T. Bremer</td>\n",
       "      <td>7014</td>\n",
       "    </tr>\n",
       "  </tbody>\n",
       "</table>\n",
       "<p>7015 rows × 2 columns</p>\n",
       "</div>"
      ],
      "text/plain": [
       "                author   num\n",
       "0      Michael Bostock     0\n",
       "1     Vadim Ogievetsky     1\n",
       "2         Jeffrey Heer     2\n",
       "3           B. Johnson     3\n",
       "4       B. Shneiderman     4\n",
       "...                ...   ...\n",
       "7010         G. Almasi  7010\n",
       "7011     S. Kuschfeldt  7011\n",
       "7012        M. Holzner  7012\n",
       "7013       B.M. Dennis  7013\n",
       "7014      P.-T. Bremer  7014\n",
       "\n",
       "[7015 rows x 2 columns]"
      ]
     },
     "execution_count": 3,
     "metadata": {},
     "output_type": "execute_result"
    }
   ],
   "source": [
    "dictToCSV(authors, \"author\", \"num\", \"authorToInt.cvs\")\n"
   ]
  },
  {
   "cell_type": "code",
   "execution_count": 4,
   "metadata": {},
   "outputs": [],
   "source": [
    "df = pd.read_csv(\"../IEEE VIS papers 1990-2021 - Main dataset.csv\")\n",
    "df = df.dropna()\n",
    "df = df[[\"AuthorNames\", \"Year\"]]"
   ]
  },
  {
   "cell_type": "code",
   "execution_count": null,
   "metadata": {},
   "outputs": [],
   "source": []
  },
  {
   "cell_type": "code",
   "execution_count": 5,
   "metadata": {},
   "outputs": [
    {
     "name": "stdout",
     "output_type": "stream",
     "text": [
      "30\n"
     ]
    }
   ],
   "source": [
    "print(max(df[\"Year\"]) - 1990)"
   ]
  },
  {
   "cell_type": "code",
   "execution_count": 6,
   "metadata": {},
   "outputs": [],
   "source": [
    "count = 0\n",
    "authors = {}\n",
    "mat = []\n",
    "for ind in df.index:\n",
    "\tauth = df[\"AuthorNames\"][ind]\n",
    "\tfor a in auth.split(\";\"):\n",
    "\t\tif a not in authors:\n",
    "\t\t\tauthors[a] = count\n",
    "\t\t\tmat.append([0]*32)\n",
    "\t\t\tmat[count][0] = count\n",
    "\t\t\tcount += 1\n",
    "\t\t# print(df[\"Year\"][ind]-1990)\n",
    "\t\t# print(authors[a])\n",
    "\t\tmat[authors[a]][df[\"Year\"][ind]-1990] += 1\n"
   ]
  },
  {
   "cell_type": "code",
   "execution_count": 7,
   "metadata": {},
   "outputs": [],
   "source": [
    "cols = [str(i) for i in range (1990, 2021)]"
   ]
  },
  {
   "cell_type": "code",
   "execution_count": 8,
   "metadata": {},
   "outputs": [],
   "source": [
    "cols.insert(0, \"id\")"
   ]
  },
  {
   "cell_type": "code",
   "execution_count": 9,
   "metadata": {},
   "outputs": [],
   "source": [
    "import numpy as np"
   ]
  },
  {
   "cell_type": "code",
   "execution_count": 10,
   "metadata": {},
   "outputs": [],
   "source": [
    "mat = np.mat(mat)"
   ]
  },
  {
   "cell_type": "code",
   "execution_count": 13,
   "metadata": {},
   "outputs": [
    {
     "data": {
      "text/plain": [
       "matrix([[  0,   0,   0, ...,   0,   0,   0],\n",
       "        [  1,   0,   0, ...,   0,   0,   0],\n",
       "        [  2,   0,   0, ...,   0,   0,   0],\n",
       "        ...,\n",
       "        [422,   0,   0, ...,   0,   1,   0],\n",
       "        [423,   0,   0, ...,   0,   1,   0],\n",
       "        [424,   0,   0, ...,   0,   1,   0]])"
      ]
     },
     "execution_count": 13,
     "metadata": {},
     "output_type": "execute_result"
    }
   ],
   "source": [
    "mat"
   ]
  },
  {
   "cell_type": "code",
   "execution_count": null,
   "metadata": {},
   "outputs": [],
   "source": []
  },
  {
   "cell_type": "code",
   "execution_count": null,
   "metadata": {},
   "outputs": [],
   "source": []
  },
  {
   "cell_type": "code",
   "execution_count": 43,
   "metadata": {},
   "outputs": [],
   "source": [
    "tmp_df = pd.DataFrame(mat.transpose(), cols)"
   ]
  },
  {
   "cell_type": "code",
   "execution_count": 44,
   "metadata": {},
   "outputs": [],
   "source": [
    "tmp_df.to_csv(\"yearWise.csv\", index = False)"
   ]
  },
  {
   "cell_type": "code",
   "execution_count": null,
   "metadata": {},
   "outputs": [],
   "source": []
  }
 ],
 "metadata": {
  "kernelspec": {
   "display_name": "Python 3",
   "language": "python",
   "name": "python3"
  },
  "language_info": {
   "codemirror_mode": {
    "name": "ipython",
    "version": 3
   },
   "file_extension": ".py",
   "mimetype": "text/x-python",
   "name": "python",
   "nbconvert_exporter": "python",
   "pygments_lexer": "ipython3",
   "version": "3.8.10"
  },
  "orig_nbformat": 4,
  "vscode": {
   "interpreter": {
    "hash": "916dbcbb3f70747c44a77c7bcd40155683ae19c65e1c03b4aa3499c5328201f1"
   }
  }
 },
 "nbformat": 4,
 "nbformat_minor": 2
}
