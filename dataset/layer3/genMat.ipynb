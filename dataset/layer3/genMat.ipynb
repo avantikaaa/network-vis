{
 "cells": [
  {
   "cell_type": "code",
   "execution_count": 8,
   "metadata": {},
   "outputs": [],
   "source": [
    "import pandas as pd\n",
    "\n",
    "df_auth = pd.read_csv(\"../layer1/community.csv\")\n",
    "\n",
    "\n",
    "def dictToCSV(d, name1, name2, filename):\n",
    "\tnode = []\n",
    "\tcomm = []\n",
    "\tfor key in d:\n",
    "\t\tnode.append(key)\n",
    "\t\tcomm.append(d[key])\n",
    "\t\n",
    "\tdf = pd.DataFrame({name1: node, name2: comm})\n",
    "\tdf.to_csv(filename, index=False)\n",
    "\treturn df"
   ]
  },
  {
   "cell_type": "code",
   "execution_count": 2,
   "metadata": {},
   "outputs": [
    {
     "name": "stdout",
     "output_type": "stream",
     "text": [
      "[1990, 1991, 1992, 1993, 1994, 1995, 1996, 1997, 1998, 1999, 2000, 2001, 2002, 2003, 2004, 2005, 2006, 2007, 2008, 2009, 2010, 2011, 2012, 2013, 2014, 2015, 2016, 2017, 2018, 2019, 2020, 2021]\n"
     ]
    }
   ],
   "source": [
    "cols = [i for i in range (1990, 2022)]\n",
    "print(cols)\n",
    "# cols.insert(0, \"id\")"
   ]
  },
  {
   "cell_type": "code",
   "execution_count": 3,
   "metadata": {},
   "outputs": [],
   "source": [
    "data = {}\n",
    "data[\"id\"] = [i for i in range(7102)]"
   ]
  },
  {
   "cell_type": "code",
   "execution_count": 4,
   "metadata": {},
   "outputs": [],
   "source": [
    "for i in cols:\n",
    "    data[i] = [0]*7102"
   ]
  },
  {
   "cell_type": "code",
   "execution_count": null,
   "metadata": {},
   "outputs": [],
   "source": []
  },
  {
   "cell_type": "code",
   "execution_count": 33,
   "metadata": {},
   "outputs": [],
   "source": [
    "df = pd.read_csv(\"../IEEE VIS papers 1990-2021 - Main dataset.csv\")\n",
    "# df = df[[\"AuthorNames\", \"Year\"]]\n",
    "# df = df.dropna()"
   ]
  },
  {
   "cell_type": "code",
   "execution_count": 6,
   "metadata": {},
   "outputs": [
    {
     "name": "stdout",
     "output_type": "stream",
     "text": [
      "2021\n",
      "1990\n"
     ]
    }
   ],
   "source": [
    "print(max(df[\"Year\"]))\n",
    "print(min(df[\"Year\"]))"
   ]
  },
  {
   "cell_type": "code",
   "execution_count": 7,
   "metadata": {},
   "outputs": [],
   "source": [
    "# print(data[\"id\"])"
   ]
  },
  {
   "cell_type": "code",
   "execution_count": 8,
   "metadata": {},
   "outputs": [],
   "source": [
    "count = 0\n",
    "authors = {}\n",
    "for ind in df.index:\n",
    "\tauth = df[\"AuthorNames\"][ind]\n",
    "\tfor a in auth.split(\";\"):\n",
    "\t\tif a not in authors:\n",
    "\t\t\tauthors[a] = count\n",
    "\t\t\tcount += 1\n",
    "\t\t# print(df[\"Year\"][ind]-1990)\n",
    "\t\t# print(authors[a])\n",
    "\n",
    "\t\tdata[df[\"Year\"][ind]][authors[a]] += 1\n"
   ]
  },
  {
   "cell_type": "code",
   "execution_count": 9,
   "metadata": {},
   "outputs": [],
   "source": [
    "# cols = [str(i) for i in range (1990, 2021)]"
   ]
  },
  {
   "cell_type": "code",
   "execution_count": 10,
   "metadata": {},
   "outputs": [
    {
     "name": "stdout",
     "output_type": "stream",
     "text": [
      "7102\n"
     ]
    }
   ],
   "source": [
    "print(count)"
   ]
  },
  {
   "cell_type": "code",
   "execution_count": 11,
   "metadata": {},
   "outputs": [],
   "source": [
    "cols.insert(0, \"id\")"
   ]
  },
  {
   "cell_type": "code",
   "execution_count": 12,
   "metadata": {},
   "outputs": [],
   "source": [
    "# for i in data[1:]:\n",
    "# \tif len(data[i]) != len(data[0]):\n",
    "# \t\tprint(i, end=\" \")"
   ]
  },
  {
   "cell_type": "code",
   "execution_count": 13,
   "metadata": {},
   "outputs": [],
   "source": [
    "tmp_df = pd.DataFrame(data)"
   ]
  },
  {
   "cell_type": "code",
   "execution_count": 14,
   "metadata": {},
   "outputs": [],
   "source": [
    "tmp_df.to_csv(\"yearWise.csv\", index = False)"
   ]
  },
  {
   "cell_type": "code",
   "execution_count": 15,
   "metadata": {},
   "outputs": [
    {
     "data": {
      "text/html": [
       "<div>\n",
       "<style scoped>\n",
       "    .dataframe tbody tr th:only-of-type {\n",
       "        vertical-align: middle;\n",
       "    }\n",
       "\n",
       "    .dataframe tbody tr th {\n",
       "        vertical-align: top;\n",
       "    }\n",
       "\n",
       "    .dataframe thead th {\n",
       "        text-align: right;\n",
       "    }\n",
       "</style>\n",
       "<table border=\"1\" class=\"dataframe\">\n",
       "  <thead>\n",
       "    <tr style=\"text-align: right;\">\n",
       "      <th></th>\n",
       "      <th>author</th>\n",
       "      <th>id</th>\n",
       "    </tr>\n",
       "  </thead>\n",
       "  <tbody>\n",
       "    <tr>\n",
       "      <th>0</th>\n",
       "      <td>Michael Bostock</td>\n",
       "      <td>0</td>\n",
       "    </tr>\n",
       "    <tr>\n",
       "      <th>1</th>\n",
       "      <td>Vadim Ogievetsky</td>\n",
       "      <td>1</td>\n",
       "    </tr>\n",
       "    <tr>\n",
       "      <th>2</th>\n",
       "      <td>Jeffrey Heer</td>\n",
       "      <td>2</td>\n",
       "    </tr>\n",
       "    <tr>\n",
       "      <th>3</th>\n",
       "      <td>B. Johnson</td>\n",
       "      <td>3</td>\n",
       "    </tr>\n",
       "    <tr>\n",
       "      <th>4</th>\n",
       "      <td>B. Shneiderman</td>\n",
       "      <td>4</td>\n",
       "    </tr>\n",
       "    <tr>\n",
       "      <th>...</th>\n",
       "      <td>...</td>\n",
       "      <td>...</td>\n",
       "    </tr>\n",
       "    <tr>\n",
       "      <th>7097</th>\n",
       "      <td>G. Almasi</td>\n",
       "      <td>7097</td>\n",
       "    </tr>\n",
       "    <tr>\n",
       "      <th>7098</th>\n",
       "      <td>S. Kuschfeldt</td>\n",
       "      <td>7098</td>\n",
       "    </tr>\n",
       "    <tr>\n",
       "      <th>7099</th>\n",
       "      <td>M. Holzner</td>\n",
       "      <td>7099</td>\n",
       "    </tr>\n",
       "    <tr>\n",
       "      <th>7100</th>\n",
       "      <td>B.M. Dennis</td>\n",
       "      <td>7100</td>\n",
       "    </tr>\n",
       "    <tr>\n",
       "      <th>7101</th>\n",
       "      <td>P.-T. Bremer</td>\n",
       "      <td>7101</td>\n",
       "    </tr>\n",
       "  </tbody>\n",
       "</table>\n",
       "<p>7102 rows × 2 columns</p>\n",
       "</div>"
      ],
      "text/plain": [
       "                author    id\n",
       "0      Michael Bostock     0\n",
       "1     Vadim Ogievetsky     1\n",
       "2         Jeffrey Heer     2\n",
       "3           B. Johnson     3\n",
       "4       B. Shneiderman     4\n",
       "...                ...   ...\n",
       "7097         G. Almasi  7097\n",
       "7098     S. Kuschfeldt  7098\n",
       "7099        M. Holzner  7099\n",
       "7100       B.M. Dennis  7100\n",
       "7101      P.-T. Bremer  7101\n",
       "\n",
       "[7102 rows x 2 columns]"
      ]
     },
     "execution_count": 15,
     "metadata": {},
     "output_type": "execute_result"
    }
   ],
   "source": [
    "dictToCSV(authors, \"author\", \"id\", \"authorToInt.csv\")"
   ]
  },
  {
   "cell_type": "code",
   "execution_count": 16,
   "metadata": {},
   "outputs": [
    {
     "name": "stdout",
     "output_type": "stream",
     "text": [
      "[0, 1, 2, 3, 4, 5, 6, 7, 8, 9, 10, 11, 12, 13, 14, 15, 16, 17, 18, 19, 20, 21, 22, 23, 24, 25, 26, 27, 28, 29, 30, 31, 32, 33, 34, 35, 36, 37, 38, 39, 40, 41, 42, 43, 44, 45, 46, 47, 48, 49, 50, 51, 52, 53, 54, 55, 56, 57, 58, 59, 60, 61, 62, 63, 64, 65, 66, 67, 68, 69, 70, 71, 72, 73, 74, 75, 76, 77, 78, 79, 80, 81, 82, 83, 84, 85, 86, 87, 88, 89, 90, 91, 92, 93, 94, 95, 96, 97, 98, 99, 100, 101, 102, 103, 104, 105, 106, 107, 108, 109, 110, 111, 112, 113, 114, 115, 116, 117, 118, 119, 120, 121, 122, 123, 124, 125, 126, 127, 128, 129, 130, 131, 132, 133, 134, 135, 136, 137, 138, 139, 140, 141, 142, 143, 144, 145, 146, 147, 148, 149, 150, 151, 152, 153, 154, 155, 156, 157, 158, 159, 160, 161, 162, 163, 164, 165, 166, 167, 168, 169, 170, 171, 172, 173, 174, 175, 176, 177, 178, 179, 180, 181, 182, 183, 184, 185, 186, 187, 188, 189, 190, 191, 192, 193, 194, 195, 196, 197, 198, 199, 200, 201, 202, 203, 204, 205, 206, 207, 208, 209, 210, 211, 212, 213, 214, 215, 216, 217, 218, 219, 220, 221, 222, 223, 224, 225, 226, 227, 228, 229, 230, 231, 232, 233, 234, 235, 236, 237, 238, 239, 240, 241, 242, 243, 244, 245, 246, 247, 248, 249, 250, 251, 252, 253, 254, 255, 256, 257, 258, 259, 260, 261, 262, 263, 264, 265, 266, 267, 268, 269, 270, 271, 272, 273, 274, 275, 276, 277, 278, 279, 280, 281, 282, 283, 284, 285, 286, 287, 288, 289, 290, 291, 292, 293, 294, 295, 296, 297, 298, 299, 300, 301, 302, 303, 304, 305, 306, 307, 308, 309, 310, 311, 312, 313, 314, 315, 316, 317, 318, 319, 320, 321, 322, 323, 324, 325, 326, 327, 328, 329, 330, 331, 332, 333, 334, 335, 336, 337, 338, 339, 340, 341, 342, 343, 344, 345, 346, 347, 348, 349, 350, 351, 352, 353, 354, 355, 356, 357, 358, 359, 360, 361, 362, 363, 364, 365, 366, 367, 368, 369, 370, 371, 372, 373, 374, 375, 376, 377, 378, 379, 380, 381, 382, 383, 384, 385, 386, 387, 388, 389, 390, 391, 392, 393, 394, 395, 396, 397, 398, 399, 400, 401, 402, 403, 404, 405, 406, 407, 408, 409, 410, 411, 412, 413, 414, 415, 416, 417, 418, 419, 420, 421, 422, 423, 424]\n"
     ]
    }
   ],
   "source": [
    "data = {}\n",
    "data[\"id\"] = [i for i in range(425)]\n",
    "print(data[\"id\"])\n",
    "for i in cols[1:]:\n",
    "    data[i] = [0]*425\n"
   ]
  },
  {
   "cell_type": "code",
   "execution_count": 17,
   "metadata": {},
   "outputs": [
    {
     "ename": "IndexError",
     "evalue": "list index out of range",
     "output_type": "error",
     "traceback": [
      "\u001b[1;31m---------------------------------------------------------------------------\u001b[0m",
      "\u001b[1;31mIndexError\u001b[0m                                Traceback (most recent call last)",
      "\u001b[1;32me:\\college\\sem8\\network-vis\\dataset\\layer3\\genMat.ipynb Cell 19\u001b[0m in \u001b[0;36m<cell line: 1>\u001b[1;34m()\u001b[0m\n\u001b[0;32m      <a href='vscode-notebook-cell:/e%3A/college/sem8/network-vis/dataset/layer3/genMat.ipynb#X24sZmlsZQ%3D%3D?line=1'>2</a>\u001b[0m auth \u001b[39m=\u001b[39m df[\u001b[39m\"\u001b[39m\u001b[39mAuthorNames\u001b[39m\u001b[39m\"\u001b[39m][ind]\n\u001b[0;32m      <a href='vscode-notebook-cell:/e%3A/college/sem8/network-vis/dataset/layer3/genMat.ipynb#X24sZmlsZQ%3D%3D?line=2'>3</a>\u001b[0m \u001b[39mfor\u001b[39;00m a \u001b[39min\u001b[39;00m auth\u001b[39m.\u001b[39msplit(\u001b[39m\"\u001b[39m\u001b[39m;\u001b[39m\u001b[39m\"\u001b[39m):\n\u001b[0;32m      <a href='vscode-notebook-cell:/e%3A/college/sem8/network-vis/dataset/layer3/genMat.ipynb#X24sZmlsZQ%3D%3D?line=3'>4</a>\u001b[0m \t\u001b[39m# if a not in authors:\u001b[39;00m\n\u001b[0;32m      <a href='vscode-notebook-cell:/e%3A/college/sem8/network-vis/dataset/layer3/genMat.ipynb#X24sZmlsZQ%3D%3D?line=4'>5</a>\u001b[0m \t\u001b[39m# \tauthors[a] = count\u001b[39;00m\n\u001b[0;32m      <a href='vscode-notebook-cell:/e%3A/college/sem8/network-vis/dataset/layer3/genMat.ipynb#X24sZmlsZQ%3D%3D?line=5'>6</a>\u001b[0m \t\u001b[39m# \tcount += 1\u001b[39;00m\n\u001b[0;32m      <a href='vscode-notebook-cell:/e%3A/college/sem8/network-vis/dataset/layer3/genMat.ipynb#X24sZmlsZQ%3D%3D?line=6'>7</a>\u001b[0m \t\u001b[39m# # print(df[\"Year\"][ind]-1990)\u001b[39;00m\n\u001b[0;32m      <a href='vscode-notebook-cell:/e%3A/college/sem8/network-vis/dataset/layer3/genMat.ipynb#X24sZmlsZQ%3D%3D?line=7'>8</a>\u001b[0m \t\u001b[39m# # print(authors[a])\u001b[39;00m\n\u001b[1;32m----> <a href='vscode-notebook-cell:/e%3A/college/sem8/network-vis/dataset/layer3/genMat.ipynb#X24sZmlsZQ%3D%3D?line=8'>9</a>\u001b[0m \tdata[df[\u001b[39m\"\u001b[39m\u001b[39mYear\u001b[39m\u001b[39m\"\u001b[39m][ind]][authors[a]] \u001b[39m+\u001b[39m\u001b[39m=\u001b[39m \u001b[39m1\u001b[39m\n",
      "\u001b[1;31mIndexError\u001b[0m: list index out of range"
     ]
    }
   ],
   "source": [
    "for ind in df.index:\n",
    "\tauth = df[\"AuthorNames\"][ind]\n",
    "\tfor a in auth.split(\";\"):\n",
    "\t\t# if a not in authors:\n",
    "\t\t# \tauthors[a] = count\n",
    "\t\t# \tcount += 1\n",
    "\t\t# # print(df[\"Year\"][ind]-1990)\n",
    "\t\t# # print(authors[a])\n",
    "\t\tdata[df[\"Year\"][ind]][authors[a]] += 1"
   ]
  },
  {
   "cell_type": "code",
   "execution_count": null,
   "metadata": {},
   "outputs": [],
   "source": [
    "print(data[\"id\"])"
   ]
  },
  {
   "attachments": {},
   "cell_type": "markdown",
   "metadata": {},
   "source": [
    "# Edge List"
   ]
  },
  {
   "cell_type": "code",
   "execution_count": 18,
   "metadata": {},
   "outputs": [],
   "source": [
    "f = open(\"edgeList.txt\", \"w\")"
   ]
  },
  {
   "cell_type": "code",
   "execution_count": 19,
   "metadata": {},
   "outputs": [],
   "source": [
    "for ind in df.index:\n",
    "\tauth = df[\"AuthorNames\"][ind]\n",
    "\tcurrent = auth.split(\";\")\n",
    "\tfor i in range(len(current)):\n",
    "\t\tfor j in range(i+1, len(current)):\n",
    "\t\t\tf.write(\"{} {}\\n\".format(authors[current[i]], authors[current[j]]))"
   ]
  },
  {
   "cell_type": "code",
   "execution_count": 20,
   "metadata": {},
   "outputs": [],
   "source": [
    "f.close()"
   ]
  },
  {
   "attachments": {},
   "cell_type": "markdown",
   "metadata": {},
   "source": [
    "# convert author names to id in community.csv"
   ]
  },
  {
   "cell_type": "code",
   "execution_count": 21,
   "metadata": {},
   "outputs": [],
   "source": [
    "comm_df = pd.read_csv(\"../layer1/community.csv\")"
   ]
  },
  {
   "cell_type": "code",
   "execution_count": null,
   "metadata": {},
   "outputs": [],
   "source": [
    "# print(authors)"
   ]
  },
  {
   "cell_type": "code",
   "execution_count": null,
   "metadata": {},
   "outputs": [],
   "source": [
    "isin = []\n",
    "notin =[]\n",
    "for ind in comm_df.index:\n",
    "    # comm_df[\"author\"][ind] = authors[comm_df[\"author\"][ind]]\n",
    "    if comm_df[\"author\"][ind] in authors:\n",
    "        isin.append(comm_df[\"author\"][ind])\n",
    "    else:\n",
    "        notin.append(comm_df[\"author\"][ind])"
   ]
  },
  {
   "cell_type": "code",
   "execution_count": null,
   "metadata": {},
   "outputs": [
    {
     "name": "stdout",
     "output_type": "stream",
     "text": [
      "7015 0\n"
     ]
    }
   ],
   "source": [
    "print(len(isin), len(notin))"
   ]
  },
  {
   "attachments": {},
   "cell_type": "markdown",
   "metadata": {},
   "source": [
    "# "
   ]
  },
  {
   "cell_type": "code",
   "execution_count": null,
   "metadata": {},
   "outputs": [],
   "source": [
    "comm_df.to_csv(\"../layer1/community.csv\", index=False)"
   ]
  }
 ],
 "metadata": {
  "kernelspec": {
   "display_name": "Python 3",
   "language": "python",
   "name": "python3"
  },
  "language_info": {
   "codemirror_mode": {
    "name": "ipython",
    "version": 3
   },
   "file_extension": ".py",
   "mimetype": "text/x-python",
   "name": "python",
   "nbconvert_exporter": "python",
   "pygments_lexer": "ipython3",
   "version": "3.10.10"
  },
  "orig_nbformat": 4,
  "vscode": {
   "interpreter": {
    "hash": "4051656f17272293e13481fcb2eac6d4c86c227ad0d67b419082fe6c72272934"
   }
  }
 },
 "nbformat": 4,
 "nbformat_minor": 2
}
