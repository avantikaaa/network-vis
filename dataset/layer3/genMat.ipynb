{
 "cells": [
  {
   "cell_type": "code",
   "execution_count": 1,
   "metadata": {},
   "outputs": [],
   "source": [
    "import pandas as pd\n",
    "\n",
    "df_auth = pd.read_csv(\"../layer1/community.csv\")\n",
    "\n",
    "\n",
    "def dictToCSV(d, name1, name2, filename):\n",
    "\tnode = []\n",
    "\tcomm = []\n",
    "\tfor key in d:\n",
    "\t\tnode.append(key)\n",
    "\t\tcomm.append(d[key])\n",
    "\t\n",
    "\tdf = pd.DataFrame({name1: node, name2: comm})\n",
    "\tdf.to_csv(filename, index=False)\n",
    "\treturn df"
   ]
  },
  {
   "cell_type": "code",
   "execution_count": 25,
   "metadata": {},
   "outputs": [
    {
     "name": "stdout",
     "output_type": "stream",
     "text": [
      "[1996, 1997, 1998, 1999, 2000, 2001, 2002, 2003, 2004, 2005, 2006, 2007, 2008, 2009, 2010, 2011, 2012, 2013, 2014, 2015, 2016, 2017, 2018, 2019, 2020]\n"
     ]
    }
   ],
   "source": [
    "cols = [i for i in range (1996, 2021)]\n",
    "print(cols)\n",
    "# cols.insert(0, \"id\")"
   ]
  },
  {
   "cell_type": "code",
   "execution_count": 26,
   "metadata": {},
   "outputs": [],
   "source": [
    "data = {}\n",
    "data[\"id\"] = [i for i in range(7015)]"
   ]
  },
  {
   "cell_type": "code",
   "execution_count": 27,
   "metadata": {},
   "outputs": [],
   "source": [
    "for i in cols:\n",
    "    data[i] = [0]*7015"
   ]
  },
  {
   "cell_type": "code",
   "execution_count": null,
   "metadata": {},
   "outputs": [],
   "source": []
  },
  {
   "cell_type": "code",
   "execution_count": 22,
   "metadata": {},
   "outputs": [],
   "source": [
    "df = pd.read_csv(\"../IEEE VIS papers 1990-2021 - Main dataset.csv\")\n",
    "df = df.dropna()\n",
    "df = df[[\"AuthorNames\", \"Year\"]]"
   ]
  },
  {
   "cell_type": "code",
   "execution_count": null,
   "metadata": {},
   "outputs": [],
   "source": []
  },
  {
   "cell_type": "code",
   "execution_count": 23,
   "metadata": {},
   "outputs": [
    {
     "name": "stdout",
     "output_type": "stream",
     "text": [
      "2020\n",
      "1996\n"
     ]
    }
   ],
   "source": [
    "print(max(df[\"Year\"]))\n",
    "print(min(df[\"Year\"]))"
   ]
  },
  {
   "cell_type": "code",
   "execution_count": 28,
   "metadata": {},
   "outputs": [],
   "source": [
    "count = 0\n",
    "authors = {}\n",
    "for ind in df.index:\n",
    "\tauth = df[\"AuthorNames\"][ind]\n",
    "\tfor a in auth.split(\";\"):\n",
    "\t\tif a not in authors:\n",
    "\t\t\tauthors[a] = count\n",
    "\t\t\tcount += 1\n",
    "\t\t# print(df[\"Year\"][ind]-1990)\n",
    "\t\t# print(authors[a])\n",
    "\t\tdata[df[\"Year\"][ind]][authors[a]] += 1\n"
   ]
  },
  {
   "cell_type": "code",
   "execution_count": 7,
   "metadata": {},
   "outputs": [],
   "source": [
    "# cols = [str(i) for i in range (1990, 2021)]"
   ]
  },
  {
   "cell_type": "code",
   "execution_count": 29,
   "metadata": {},
   "outputs": [],
   "source": [
    "cols.insert(0, \"id\")"
   ]
  },
  {
   "cell_type": "code",
   "execution_count": 48,
   "metadata": {},
   "outputs": [],
   "source": [
    "tmp_df = pd.DataFrame(data)"
   ]
  },
  {
   "cell_type": "code",
   "execution_count": 49,
   "metadata": {},
   "outputs": [],
   "source": [
    "tmp_df.to_csv(\"yearWise.csv\", index = False)"
   ]
  },
  {
   "cell_type": "code",
   "execution_count": 33,
   "metadata": {},
   "outputs": [
    {
     "data": {
      "text/html": [
       "<div>\n",
       "<style scoped>\n",
       "    .dataframe tbody tr th:only-of-type {\n",
       "        vertical-align: middle;\n",
       "    }\n",
       "\n",
       "    .dataframe tbody tr th {\n",
       "        vertical-align: top;\n",
       "    }\n",
       "\n",
       "    .dataframe thead th {\n",
       "        text-align: right;\n",
       "    }\n",
       "</style>\n",
       "<table border=\"1\" class=\"dataframe\">\n",
       "  <thead>\n",
       "    <tr style=\"text-align: right;\">\n",
       "      <th></th>\n",
       "      <th>author</th>\n",
       "      <th>id</th>\n",
       "    </tr>\n",
       "  </thead>\n",
       "  <tbody>\n",
       "    <tr>\n",
       "      <th>0</th>\n",
       "      <td>J. Kruger</td>\n",
       "      <td>0</td>\n",
       "    </tr>\n",
       "    <tr>\n",
       "      <th>1</th>\n",
       "      <td>R. Westermann</td>\n",
       "      <td>1</td>\n",
       "    </tr>\n",
       "    <tr>\n",
       "      <th>2</th>\n",
       "      <td>Edward Segel</td>\n",
       "      <td>2</td>\n",
       "    </tr>\n",
       "    <tr>\n",
       "      <th>3</th>\n",
       "      <td>Jeffrey Heer</td>\n",
       "      <td>3</td>\n",
       "    </tr>\n",
       "    <tr>\n",
       "      <th>4</th>\n",
       "      <td>Fernanda B. Viegas</td>\n",
       "      <td>4</td>\n",
       "    </tr>\n",
       "    <tr>\n",
       "      <th>...</th>\n",
       "      <td>...</td>\n",
       "      <td>...</td>\n",
       "    </tr>\n",
       "    <tr>\n",
       "      <th>420</th>\n",
       "      <td>Huixuan Xie</td>\n",
       "      <td>420</td>\n",
       "    </tr>\n",
       "    <tr>\n",
       "      <th>421</th>\n",
       "      <td>Yitao Wu</td>\n",
       "      <td>421</td>\n",
       "    </tr>\n",
       "    <tr>\n",
       "      <th>422</th>\n",
       "      <td>Zhiguang Zhou</td>\n",
       "      <td>422</td>\n",
       "    </tr>\n",
       "    <tr>\n",
       "      <th>423</th>\n",
       "      <td>Jiazhi Xia</td>\n",
       "      <td>423</td>\n",
       "    </tr>\n",
       "    <tr>\n",
       "      <th>424</th>\n",
       "      <td>Fangfang Zhou</td>\n",
       "      <td>424</td>\n",
       "    </tr>\n",
       "  </tbody>\n",
       "</table>\n",
       "<p>425 rows × 2 columns</p>\n",
       "</div>"
      ],
      "text/plain": [
       "                 author   id\n",
       "0             J. Kruger    0\n",
       "1         R. Westermann    1\n",
       "2          Edward Segel    2\n",
       "3          Jeffrey Heer    3\n",
       "4    Fernanda B. Viegas    4\n",
       "..                  ...  ...\n",
       "420         Huixuan Xie  420\n",
       "421            Yitao Wu  421\n",
       "422       Zhiguang Zhou  422\n",
       "423          Jiazhi Xia  423\n",
       "424       Fangfang Zhou  424\n",
       "\n",
       "[425 rows x 2 columns]"
      ]
     },
     "execution_count": 33,
     "metadata": {},
     "output_type": "execute_result"
    }
   ],
   "source": [
    "dictToCSV(authors, \"author\", \"id\", \"authorToInt.csv\")"
   ]
  },
  {
   "cell_type": "code",
   "execution_count": 45,
   "metadata": {},
   "outputs": [
    {
     "name": "stdout",
     "output_type": "stream",
     "text": [
      "[0, 1, 2, 3, 4, 5, 6, 7, 8, 9, 10, 11, 12, 13, 14, 15, 16, 17, 18, 19, 20, 21, 22, 23, 24, 25, 26, 27, 28, 29, 30, 31, 32, 33, 34, 35, 36, 37, 38, 39, 40, 41, 42, 43, 44, 45, 46, 47, 48, 49, 50, 51, 52, 53, 54, 55, 56, 57, 58, 59, 60, 61, 62, 63, 64, 65, 66, 67, 68, 69, 70, 71, 72, 73, 74, 75, 76, 77, 78, 79, 80, 81, 82, 83, 84, 85, 86, 87, 88, 89, 90, 91, 92, 93, 94, 95, 96, 97, 98, 99, 100, 101, 102, 103, 104, 105, 106, 107, 108, 109, 110, 111, 112, 113, 114, 115, 116, 117, 118, 119, 120, 121, 122, 123, 124, 125, 126, 127, 128, 129, 130, 131, 132, 133, 134, 135, 136, 137, 138, 139, 140, 141, 142, 143, 144, 145, 146, 147, 148, 149, 150, 151, 152, 153, 154, 155, 156, 157, 158, 159, 160, 161, 162, 163, 164, 165, 166, 167, 168, 169, 170, 171, 172, 173, 174, 175, 176, 177, 178, 179, 180, 181, 182, 183, 184, 185, 186, 187, 188, 189, 190, 191, 192, 193, 194, 195, 196, 197, 198, 199, 200, 201, 202, 203, 204, 205, 206, 207, 208, 209, 210, 211, 212, 213, 214, 215, 216, 217, 218, 219, 220, 221, 222, 223, 224, 225, 226, 227, 228, 229, 230, 231, 232, 233, 234, 235, 236, 237, 238, 239, 240, 241, 242, 243, 244, 245, 246, 247, 248, 249, 250, 251, 252, 253, 254, 255, 256, 257, 258, 259, 260, 261, 262, 263, 264, 265, 266, 267, 268, 269, 270, 271, 272, 273, 274, 275, 276, 277, 278, 279, 280, 281, 282, 283, 284, 285, 286, 287, 288, 289, 290, 291, 292, 293, 294, 295, 296, 297, 298, 299, 300, 301, 302, 303, 304, 305, 306, 307, 308, 309, 310, 311, 312, 313, 314, 315, 316, 317, 318, 319, 320, 321, 322, 323, 324, 325, 326, 327, 328, 329, 330, 331, 332, 333, 334, 335, 336, 337, 338, 339, 340, 341, 342, 343, 344, 345, 346, 347, 348, 349, 350, 351, 352, 353, 354, 355, 356, 357, 358, 359, 360, 361, 362, 363, 364, 365, 366, 367, 368, 369, 370, 371, 372, 373, 374, 375, 376, 377, 378, 379, 380, 381, 382, 383, 384, 385, 386, 387, 388, 389, 390, 391, 392, 393, 394, 395, 396, 397, 398, 399, 400, 401, 402, 403, 404, 405, 406, 407, 408, 409, 410, 411, 412, 413, 414, 415, 416, 417, 418, 419, 420, 421, 422, 423, 424]\n"
     ]
    }
   ],
   "source": [
    "data = {}\n",
    "data[\"id\"] = [i for i in range(425)]\n",
    "print(data[\"id\"])\n",
    "for i in cols[1:]:\n",
    "    data[i] = [0]*425\n"
   ]
  },
  {
   "cell_type": "code",
   "execution_count": 46,
   "metadata": {},
   "outputs": [],
   "source": [
    "for ind in df.index:\n",
    "\tauth = df[\"AuthorNames\"][ind]\n",
    "\tfor a in auth.split(\";\"):\n",
    "\t\t# if a not in authors:\n",
    "\t\t# \tauthors[a] = count\n",
    "\t\t# \tcount += 1\n",
    "\t\t# # print(df[\"Year\"][ind]-1990)\n",
    "\t\t# # print(authors[a])\n",
    "\t\tdata[df[\"Year\"][ind]][authors[a]] += 1"
   ]
  },
  {
   "cell_type": "code",
   "execution_count": 47,
   "metadata": {},
   "outputs": [
    {
     "name": "stdout",
     "output_type": "stream",
     "text": [
      "[0, 1, 2, 3, 4, 5, 6, 7, 8, 9, 10, 11, 12, 13, 14, 15, 16, 17, 18, 19, 20, 21, 22, 23, 24, 25, 26, 27, 28, 29, 30, 31, 32, 33, 34, 35, 36, 37, 38, 39, 40, 41, 42, 43, 44, 45, 46, 47, 48, 49, 50, 51, 52, 53, 54, 55, 56, 57, 58, 59, 60, 61, 62, 63, 64, 65, 66, 67, 68, 69, 70, 71, 72, 73, 74, 75, 76, 77, 78, 79, 80, 81, 82, 83, 84, 85, 86, 87, 88, 89, 90, 91, 92, 93, 94, 95, 96, 97, 98, 99, 100, 101, 102, 103, 104, 105, 106, 107, 108, 109, 110, 111, 112, 113, 114, 115, 116, 117, 118, 119, 120, 121, 122, 123, 124, 125, 126, 127, 128, 129, 130, 131, 132, 133, 134, 135, 136, 137, 138, 139, 140, 141, 142, 143, 144, 145, 146, 147, 148, 149, 150, 151, 152, 153, 154, 155, 156, 157, 158, 159, 160, 161, 162, 163, 164, 165, 166, 167, 168, 169, 170, 171, 172, 173, 174, 175, 176, 177, 178, 179, 180, 181, 182, 183, 184, 185, 186, 187, 188, 189, 190, 191, 192, 193, 194, 195, 196, 197, 198, 199, 200, 201, 202, 203, 204, 205, 206, 207, 208, 209, 210, 211, 212, 213, 214, 215, 216, 217, 218, 219, 220, 221, 222, 223, 224, 225, 226, 227, 228, 229, 230, 231, 232, 233, 234, 235, 236, 237, 238, 239, 240, 241, 242, 243, 244, 245, 246, 247, 248, 249, 250, 251, 252, 253, 254, 255, 256, 257, 258, 259, 260, 261, 262, 263, 264, 265, 266, 267, 268, 269, 270, 271, 272, 273, 274, 275, 276, 277, 278, 279, 280, 281, 282, 283, 284, 285, 286, 287, 288, 289, 290, 291, 292, 293, 294, 295, 296, 297, 298, 299, 300, 301, 302, 303, 304, 305, 306, 307, 308, 309, 310, 311, 312, 313, 314, 315, 316, 317, 318, 319, 320, 321, 322, 323, 324, 325, 326, 327, 328, 329, 330, 331, 332, 333, 334, 335, 336, 337, 338, 339, 340, 341, 342, 343, 344, 345, 346, 347, 348, 349, 350, 351, 352, 353, 354, 355, 356, 357, 358, 359, 360, 361, 362, 363, 364, 365, 366, 367, 368, 369, 370, 371, 372, 373, 374, 375, 376, 377, 378, 379, 380, 381, 382, 383, 384, 385, 386, 387, 388, 389, 390, 391, 392, 393, 394, 395, 396, 397, 398, 399, 400, 401, 402, 403, 404, 405, 406, 407, 408, 409, 410, 411, 412, 413, 414, 415, 416, 417, 418, 419, 420, 421, 422, 423, 424]\n"
     ]
    }
   ],
   "source": [
    "print(data[\"id\"])"
   ]
  },
  {
   "attachments": {},
   "cell_type": "markdown",
   "metadata": {},
   "source": [
    "# Edge List"
   ]
  },
  {
   "cell_type": "code",
   "execution_count": 52,
   "metadata": {},
   "outputs": [],
   "source": [
    "f = open(\"edgeList.txt\", \"w\")"
   ]
  },
  {
   "cell_type": "code",
   "execution_count": 54,
   "metadata": {},
   "outputs": [],
   "source": [
    "for ind in df.index:\n",
    "\tauth = df[\"AuthorNames\"][ind]\n",
    "\tcurrent = auth.split(\";\")\n",
    "\tfor i in range(len(current)):\n",
    "\t\tfor j in range(i+1, len(current)):\n",
    "\t\t\tf.write(\"{} {}\\n\".format(authors[current[i]], authors[current[j]]))"
   ]
  },
  {
   "cell_type": "code",
   "execution_count": 55,
   "metadata": {},
   "outputs": [],
   "source": [
    "f.close()"
   ]
  },
  {
   "attachments": {},
   "cell_type": "markdown",
   "metadata": {},
   "source": [
    "# convert author names to id in community.csv"
   ]
  },
  {
   "cell_type": "code",
   "execution_count": 59,
   "metadata": {},
   "outputs": [],
   "source": [
    "comm_df = pd.read_csv(\"../layer1/community.csv\")"
   ]
  },
  {
   "cell_type": "code",
   "execution_count": 61,
   "metadata": {},
   "outputs": [
    {
     "name": "stdout",
     "output_type": "stream",
     "text": [
      "{'J. Kruger': 0, 'R. Westermann': 1, 'Edward Segel': 2, 'Jeffrey Heer': 3, 'Fernanda B. Viegas': 4, 'Martin Wattenberg': 5, 'Frank van Ham': 6, 'Jesse Kriss': 7, 'Matt McKeon': 8, 'Tamara Munzner': 9, 'John Stasko': 10, 'Carsten Gorg': 11, 'Zhicheng Liu': 12, 'Kanupriya Singhal': 13, 'Michael Sedlmair': 14, 'Miriah Meyer': 15, 'J. Kniss': 16, 'G. Kindlmann': 17, 'C. Hansen': 18, 'Lee Byron': 19, 'S.K. Card': 20, 'J. Mackinlay': 21, 'D. Ebert': 22, 'P. Rheingans': 23, 'J.J. van Wijk': 24, 'George Robertson': 25, 'Roland Fernandez': 26, 'Danyel Fisher': 27, 'Bongshin Lee': 28, 'Sean Kandel': 29, 'Andreas Paepcke': 30, 'Joseph M. Hellerstein': 31, 'Alan M. MacEachren': 32, 'Anuj Jaiswal': 33, 'Anthony C. Robinson': 34, 'Scott Pezanowski': 35, 'Alexander Savelyev': 36, 'Prasenjit Mitra': 37, 'Xiao Zhang': 38, 'Justine Blanford': 39, 'Arvind Satyanarayan': 40, 'Dominik Moritz': 41, 'Kanit Wongsuphasawat': 42, 'Christopher Collins': 43, 'Ed Huai-Hsin Chi': 44, 'J.T. Riedl': 45, 'R. Amar': 46, 'J. Stasko': 47, 'Megan Monroe': 48, 'Rongjian Lan': 49, 'Hanseung Lee': 50, 'Catherine Plaisant': 51, 'Ben Shneiderman': 52, 'H. Carr': 53, 'J. Snoeyink': 54, 'M. van de Panne': 55, 'Samuel Gratzl': 56, 'Alexander Lex': 57, 'Nils Gehlenborg': 58, 'Hanspeter Pfister': 59, 'Marc Streit': 60, 'Robert E. Roth': 61, \"James O'Brien\": 62, 'Bonan Li': 63, 'Derek Swingley': 64, 'Mark Gahegan': 65, 'Daniel Smilkov': 66, 'James Wexler': 67, 'Jimbo Wilson': 68, 'Dandelion Mané': 69, 'Doug Fritz': 70, 'Dilip Krishnan': 71, 'Fernanda B. Viégas': 72, 'Gennady Andrienko': 73, 'Natalia Andrienko': 74, 'Michael Burch': 75, 'Daniel Weiskopf': 76, 'Lauro Lins': 77, 'James T. Klosowski': 78, 'Carlos Scheidegger': 79, 'D. Laney': 80, 'P.-t. Bremer': 81, 'A. Mascarenhas': 82, 'P. Miller': 83, 'V. Pascucci': 84, 'Jerry Alan Fails': 85, 'Amy Karlson': 86, 'Layla Shahamat': 87, 'Maarten H. Everts': 88, 'Henk Bekker': 89, 'Jos B.T.M. Roerdink': 90, 'Tobias Isenberg': 91, 'Aidong Lu': 92, 'C.J. Morris': 93, 'D.S. Ebert': 94, 'Paulo Joia': 95, 'Danilo Coimbra': 96, 'Jose A. Cuminato': 97, 'Fernando V. Paulovich': 98, 'Luis G. Nonato': 99, 'Luana Micallef': 100, 'Pierre Dragicevic': 101, 'Jean-Daniel Fekete': 102, 'Charles Perin': 103, 'Romain Vuillemot': 104, 'S.F. Roth': 105, 'P. Lucas': 106, 'J.A. Senn': 107, 'C.C. Gomberg': 108, 'M.B. Burks': 109, 'P.J. Stroffolino': 110, 'A.J. Kolojechick': 111, 'C. Dunmire': 112, 'Huy Vo': 113, 'David Koop': 114, 'Juliana Freire': 115, 'Claudio Silva': 116, 'Jian Zhao': 117, 'Nan Cao': 118, 'Zhen Wen': 119, 'Yale Song': 120, 'Yu-Ru Lin': 121, 'Thomas Schultz': 122, 'Hans-Peter Seidel': 123, 'W.A.A. Nuij': 124, 'Christophe Hurter': 125, 'Salvatore Rinzivillo': 126, 'Stefan Wrobel': 127, 'Heidi Lam': 128, 'Caroline Ziemkiewicz': 129, 'Robert Kosara': 130, 'Jessica Hullman': 131, 'Eytan Adar': 132, 'Priti Shah': 133, 'K. Cole-McLaughlin': 134, 'Nicholas Kong': 135, 'Maneesh Agrawala': 136, 'Thomas Mühlbacher': 137, 'Harald Piringer': 138, 'Jurgen Waser': 139, 'Raphael Fuchs': 140, 'Hrvoje Ribicic': 141, 'Benjamin Schindler': 142, 'Gunther Bloschl': 143, 'Eduard Groller': 144, 'Chenglong Wang': 145, 'Greg L. Nelson': 146, 'Halden Lin': 147, 'Adam M. Smith': 148, 'Bill Howe': 149, 'Markus Steinberger': 150, 'Manuela Waldner': 151, 'Dieter Schmalstieg': 152, 'Stef van den Elzen': 153, 'Jarke J. van Wijk': 154, 'Michael Krone': 155, 'Katrin Bidmon': 156, 'Thomas Ertl': 157, 'Danny Holten': 158, 'Jorik Blaas': 159, 'Hendrik Strobelt': 160, 'Sebastian Gehrmann': 161, 'Michael Behrisch': 162, 'Adam Perer': 163, 'Alexander M. Rush': 164, 'Aidan Slingsby': 165, 'Jason Dykes': 166, 'Jo Wood': 167, 'Markus Hadwiger': 168, 'Johanna Beyer': 169, 'Won-Ki Jeong': 170, 'Narges Mahyar': 171, 'Melanie Tory': 172, 'Tanja Blascheck': 173, 'Markus John': 174, 'Kuno Kurzhals': 175, 'Steffen Koch': 176, 'Tino Weinkauf': 177, 'Holger Theisel': 178, 'Steve Haroz': 179, 'David Whitney': 180, 'Panpan Xu': 181, 'Honghui Mei': 182, 'Liu Ren': 183, 'Wei Chen': 184, 'Robert Kincaid': 185, 'Lingyun Yu': 186, 'Konstantinos Efstathiou': 187, 'Petra Isenberg': 188, 'Yuri Ivanov': 189, 'Christopher Wren': 190, 'Alexander Sorokin': 191, 'Ishwinder Kaur': 192, 'Michael Gleicher': 193, 'L.M. Hwa': 194, 'M.A. Duchaineau': 195, 'K.I. Joy': 196, 'Steve Kieffer': 197, 'Tim Dwyer': 198, 'Kim Marriott': 199, 'Michael Wybrow': 200, 'Michael J. McGuffin': 201, 'Igor Jurisica': 202, 'Hadley Wickham': 203, 'Dianne Cook': 204, 'Heike Hofmann': 205, 'Andreas Buja': 206, 'Matthew Kay': 207, 'Cydney B. Nielsen': 208, 'Shaun D. Jackman': 209, 'Inanç Birol': 210, 'Steven J.M. Jones': 211, 'Cheuk Yiu Ip': 212, 'Amitabh Varshney': 213, 'Joseph JaJa': 214, 'Hua Guo': 215, 'Steven R. Gomez': 216, 'David H. Laidlaw': 217, 'Julien Tierny': 218, 'Guillaume Favelier': 219, 'Joshua A. Levine': 220, 'Charles Gueunet': 221, 'Michael Michaux': 222, 'Ming-Yuen Chan': 223, 'Yingcai Wu': 224, 'Wai-Ho Mak': 225, 'Huamin Qu': 226, 'Carr Hamish': 227, 'Brian Duffy': 228, 'Brain Denby': 229, 'Gary K. L. Tam': 230, 'Vivek Kothari': 231, 'Min Chen': 232, 'Evanthia Dimara': 233, 'Anastasia Bezerianos': 234, 'Silvia Born': 235, 'Alexander Wiebel': 236, 'Jan Friedrich': 237, 'Gerik Scheuermann': 238, 'Dirk Bartz': 239, 'Gordon Kindlmann': 240, 'Eric A. Bier': 241, 'Stuart K. Card': 242, 'John W. Bodnar': 243, 'Yalong Yang': 244, 'Sarah Goodwin': 245, 'Behzad Sajadi': 246, 'Aditi Majumder': 247, 'Norbert Lindow': 248, 'Daniel Baum': 249, 'Hans-Christian Hege': 250, 'Danielle Albers Szafir': 251, 'Junpeng Wang': 252, 'Liang Gou': 253, 'Han-Wei Shen': 254, 'Hao Yang': 255, 'Zening Qu': 256, 'Mennatallah El-Assady': 257, 'Rita Sevastjanova': 258, 'Fabian Sperrle': 259, 'Daniel Keim': 260, 'Mathias Hummel': 261, 'Harald Obermaier': 262, 'Christoph Garth': 263, 'Kenneth I. Joy': 264, 'Harald Bosch': 265, 'Mark Giereth': 266, 'Donghao Ren': 267, 'Matthew Brehmer': 268, 'Bilal Alsallakh': 269, 'Wolfgang Aigner': 270, 'Silvia Miksch': 271, 'M. Eduard Gröller': 272, 'Martin Mladenov': 273, 'Michael Mock': 274, 'Christian Pölitz': 275, 'Michael Glueck': 276, 'Fanny Chevalier': 277, 'Azam Khan': 278, 'Ali K. Al-Awami': 279, 'Narayanan Kasthuri': 280, 'Jeff W. Lichtman': 281, 'J.E. Swan': 282, 'K. Mueller': 283, 'T. Moller': 284, 'N. Shareel': 285, 'R. Crawfis': 286, 'R. Yagel': 287, 'Dane Coffey': 288, 'Chi-Lun Lin': 289, 'Arthur G. Erdman': 290, 'Daniel F. Keefe': 291, 'D.C. Banks': 292, 'S. Linton': 293, 'Carlos Correa': 294, 'Peter Lindstrom': 295, 'A. Neubauer': 296, 'L. Mroz': 297, 'S. Wolfsberger': 298, 'R. Wegenkittl': 299, 'M.-T. Forster': 300, 'K. Buhler': 301, 'Ido Guy': 302, 'Erel Uziel': 303, 'Inbal Ronen': 304, 'Michal Jacovi': 305, 'Timothy Sullivan': 306, 'Soumya Dutta': 307, 'Chun-Ming Chen': 308, 'Gregory Heinlein': 309, 'Jen-Ping Chen': 310, 'Hamish Carr': 311, 'Bernd Hentschel': 312, 'Irene Tedjo': 313, 'Markus Probst': 314, 'Marc Wolter': 315, 'Marek Behr': 316, 'Christian Bischof': 317, 'Torsten Kuhlen': 318, 'Marco Ament': 319, 'Filip Sadlo': 320, 'Conglei Shi': 321, 'Shixia Liu': 322, 'Hong Zhou': 323, 'David Schroeder': 324, 'Dongyu Liu': 325, 'X. Yuan': 326, 'M.Z. Nguyen': 327, 'B. Chen': 328, 'D.H. Porter': 329, 'Tobias Günther': 330, 'Maik Schulze': 331, 'Roger Beecham': 332, 'Wouter Meulemans': 333, 'Cagatay Turkay': 334, 'Takanori Fujiwara': 335, 'Oh-Hyun Kwon': 336, 'Kwan-Liu Ma': 337, 'Sujal Bista': 338, 'Jiachen Zhuo': 339, 'Rao P. Gullapalli': 340, 'Karl Bladin': 341, 'Emil Axelsson': 342, 'Erik Broberg': 343, 'Carter Emmart': 344, 'Patric Ljung': 345, 'Alexander Bock': 346, 'Anders Ynnerman': 347, 'Cong Xie': 348, 'Wei Xu': 349, 'Klaus Mueller': 350, 'Alexander Kachkaev': 351, 'Wen Zhong': 352, 'Karen B. Schloss': 353, 'Connor C. Gramazio': 354, 'Allison T. Silverman': 355, 'Madeline L. Parker': 356, 'Audrey S. Wang': 357, 'Samer S. Barakat': 358, 'Xavier Tricoche': 359, 'Daniel Jönsson': 360, 'Jagoda Walny': 361, 'Christian Frisson': 362, 'Mieka West': 363, 'Doris Kosminsky': 364, 'Søren Knudsen': 365, 'Sheelagh Carpendale': 366, 'Wesley Willett': 367, 'Wenbin He': 368, 'Hanqi Guo': 369, 'Ko-Chih Wang': 370, 'Mukund Raj': 371, 'Youssef S. G. Nashed': 372, 'Tom Peterka': 373, 'Nicole Jardine': 374, 'Brian D. Ondov': 375, 'Niklas Elmqvist': 376, 'Steven Franconeri': 377, 'David Kouřil': 378, 'Ladislav Čmolík': 379, 'Barbora Kozlíková': 380, 'Hslanc-Yun Wu': 381, 'Graham Johnson': 382, 'David S. Goodsell': 383, 'Arthur Olson': 384, 'Ivan Viola': 385, 'Bowen Yu': 386, 'Cláudio T. Silva': 387, 'Jules Vidal': 388, 'Joseph Budin': 389, 'Alessandro Giusti': 390, 'Pierluigi Taddei': 391, 'Giorgio Corani': 392, 'Luca Gambardella': 393, 'Cristina Magli': 394, 'Luca Gianaroli': 395, 'Andrey Krekhov': 396, 'Jens Krüger': 397, 'Tao Ju': 398, 'Minxin Cheng': 399, 'Xu Wang': 400, 'Ye Duan': 401, 'Subhashis Hazarika': 402, 'Haoyu Li': 403, 'Ching-Shan Chou': 404, 'Alex Kale': 405, 'Benjamin Lee': 406, 'Dave Brown': 407, 'Steven Drucker': 408, 'Pavol Klacansky': 409, 'Attila Gyulassy': 410, 'Peer-Timo Bremer': 411, 'Valerio Pascucci': 412, 'Sergej Stoppel': 413, 'Magnus Paulson Erga': 414, 'Stefan Bruckner': 415, 'Ying Zhao': 416, 'Haojin Jiang': 417, \"Qi'an Chen\": 418, 'Yaqi Qin': 419, 'Huixuan Xie': 420, 'Yitao Wu': 421, 'Zhiguang Zhou': 422, 'Jiazhi Xia': 423, 'Fangfang Zhou': 424}\n"
     ]
    }
   ],
   "source": [
    "print(authors)"
   ]
  },
  {
   "cell_type": "code",
   "execution_count": 63,
   "metadata": {},
   "outputs": [],
   "source": [
    "isin = []\n",
    "notin =[]\n",
    "for ind in comm_df.index:\n",
    "    # comm_df[\"author\"][ind] = authors[comm_df[\"author\"][ind]]\n",
    "    if comm_df[\"author\"][ind] in authors:\n",
    "        isin.append(comm_df[\"author\"][ind])\n",
    "    else:\n",
    "        notin.append(comm_df[\"author\"][ind])"
   ]
  },
  {
   "cell_type": "code",
   "execution_count": 64,
   "metadata": {},
   "outputs": [
    {
     "name": "stdout",
     "output_type": "stream",
     "text": [
      "425 6590\n"
     ]
    }
   ],
   "source": [
    "print(len(isin), len(notin))"
   ]
  },
  {
   "attachments": {},
   "cell_type": "markdown",
   "metadata": {},
   "source": [
    "# "
   ]
  },
  {
   "cell_type": "code",
   "execution_count": null,
   "metadata": {},
   "outputs": [],
   "source": []
  }
 ],
 "metadata": {
  "kernelspec": {
   "display_name": "Python 3",
   "language": "python",
   "name": "python3"
  },
  "language_info": {
   "codemirror_mode": {
    "name": "ipython",
    "version": 3
   },
   "file_extension": ".py",
   "mimetype": "text/x-python",
   "name": "python",
   "nbconvert_exporter": "python",
   "pygments_lexer": "ipython3",
   "version": "3.8.10"
  },
  "orig_nbformat": 4,
  "vscode": {
   "interpreter": {
    "hash": "916dbcbb3f70747c44a77c7bcd40155683ae19c65e1c03b4aa3499c5328201f1"
   }
  }
 },
 "nbformat": 4,
 "nbformat_minor": 2
}
