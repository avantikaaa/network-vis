{
 "cells": [
  {
   "cell_type": "code",
   "execution_count": 33,
   "metadata": {},
   "outputs": [],
   "source": [
    "import pandas as pd"
   ]
  },
  {
   "cell_type": "code",
   "execution_count": 2,
   "metadata": {},
   "outputs": [],
   "source": [
    "df = pd.read_csv(\"../n_community.csv\")"
   ]
  },
  {
   "cell_type": "code",
   "execution_count": 3,
   "metadata": {},
   "outputs": [],
   "source": [
    "l = df['community'].to_list()"
   ]
  },
  {
   "cell_type": "code",
   "execution_count": 4,
   "metadata": {},
   "outputs": [
    {
     "name": "stdout",
     "output_type": "stream",
     "text": [
      "459.0\n"
     ]
    }
   ],
   "source": [
    "print(max(l))"
   ]
  },
  {
   "cell_type": "code",
   "execution_count": 5,
   "metadata": {},
   "outputs": [],
   "source": [
    "nl = [0]* 460"
   ]
  },
  {
   "cell_type": "code",
   "execution_count": 6,
   "metadata": {},
   "outputs": [],
   "source": [
    "l = list(map(int, l))"
   ]
  },
  {
   "cell_type": "code",
   "execution_count": 10,
   "metadata": {},
   "outputs": [
    {
     "name": "stdout",
     "output_type": "stream",
     "text": [
      "7015\n"
     ]
    }
   ],
   "source": [
    "print(len(l))"
   ]
  },
  {
   "cell_type": "code",
   "execution_count": 7,
   "metadata": {},
   "outputs": [],
   "source": [
    "for i in l:\n",
    "    nl[i] += 1"
   ]
  },
  {
   "cell_type": "code",
   "execution_count": 9,
   "metadata": {},
   "outputs": [
    {
     "name": "stdout",
     "output_type": "stream",
     "text": [
      "460\n"
     ]
    }
   ],
   "source": [
    "print(len(nl))"
   ]
  },
  {
   "cell_type": "code",
   "execution_count": null,
   "metadata": {},
   "outputs": [],
   "source": []
  },
  {
   "cell_type": "code",
   "execution_count": 41,
   "metadata": {},
   "outputs": [],
   "source": [
    "nedges = []\n",
    "nnodes = []\n",
    "for i in range(460):\n",
    "    f = open(\"../community/{}.edge\".format(str(i)), \"r\")\n",
    "    ed = 0\n",
    "    nod = set()\n",
    "    for line in f.readlines():\n",
    "        a, b = line[:-1].split()\n",
    "        nod.add(a)\n",
    "        nod.add(b)\n",
    "        ed += 1\n",
    "    nedges.append(ed)\n",
    "    nnodes.append(len(nod))\n",
    "    f.close()"
   ]
  },
  {
   "cell_type": "code",
   "execution_count": 34,
   "metadata": {},
   "outputs": [],
   "source": [
    "comm = [i for i in range(460)]"
   ]
  },
  {
   "cell_type": "code",
   "execution_count": 35,
   "metadata": {},
   "outputs": [
    {
     "name": "stdout",
     "output_type": "stream",
     "text": [
      "460 460 460\n"
     ]
    }
   ],
   "source": [
    "print(len(comm), len(nedges), len(nl))"
   ]
  },
  {
   "cell_type": "code",
   "execution_count": 47,
   "metadata": {},
   "outputs": [],
   "source": [
    "data = {\n",
    "    \"community\": comm,\n",
    "    \"edge_count\": nedges,\n",
    "    \"node_count\": nnodes\n",
    "}"
   ]
  },
  {
   "cell_type": "code",
   "execution_count": 48,
   "metadata": {},
   "outputs": [],
   "source": [
    "# new_df = pd.DataFrame(data=[comm, nedges, nl], columns=[\"community\", \"edge_count\", \"node_count\"])\n",
    "new_df = pd.DataFrame(data)"
   ]
  },
  {
   "cell_type": "code",
   "execution_count": 49,
   "metadata": {},
   "outputs": [
    {
     "name": "stdout",
     "output_type": "stream",
     "text": [
      "[2, 32, 152, 238, 67, 285, 120, 155, 2, 136, 29, 301, 187, 58, 9, 249, 61, 7, 94, 46, 105, 8, 243, 64, 272, 49, 398, 2, 7, 2, 2, 2, 45, 3, 3, 170, 65, 2, 266, 15, 31, 97, 326, 4, 36, 118, 113, 4, 8, 6, 4, 10, 2, 33, 7, 32, 88, 6, 3, 2, 221, 3, 4, 125, 6, 3, 7, 10, 29, 40, 6, 2, 5, 6, 4, 10, 4, 15, 3, 8, 4, 3, 5, 3, 4, 8, 3, 2, 5, 3, 6, 3, 4, 3, 12, 2, 8, 4, 49, 6, 2, 4, 8, 2, 2, 4, 3, 14, 2, 2, 9, 39, 50, 4, 3, 8, 4, 4, 2, 3, 3, 2, 4, 2, 3, 4, 2, 2, 2, 16, 4, 2, 8, 3, 5, 2, 3, 7, 3, 5, 6, 4, 11, 4, 2, 2, 2, 9, 5, 6, 6, 6, 5, 2, 2, 4, 2, 2, 4, 4, 3, 2, 2, 2, 10, 2, 4, 3, 3, 4, 3, 2, 2, 4, 2, 3, 2, 7, 4, 5, 10, 3, 2, 2, 4, 3, 4, 6, 6, 2, 3, 3, 2, 7, 2, 5, 5, 17, 2, 3, 4, 2, 3, 3, 5, 7, 5, 2, 2, 4, 5, 9, 3, 6, 2, 2, 2, 5, 2, 3, 7, 6, 2, 8, 3, 2, 4, 5, 2, 2, 9, 3, 5, 6, 3, 2, 3, 4, 3, 3, 6, 4, 2, 8, 5, 3, 4, 3, 2, 4, 3, 5, 3, 2, 3, 3, 3, 3, 2, 3, 2, 4, 2, 2, 4, 8, 3, 2, 3, 2, 2, 4, 4, 3, 2, 4, 2, 2, 3, 4, 3, 3, 8, 2, 2, 2, 3, 2, 3, 4, 2, 3, 3, 2, 6, 2, 3, 7, 8, 2, 6, 8, 2, 23, 5, 3, 4, 4, 7, 2, 2, 3, 2, 5, 9, 3, 3, 4, 2, 7, 4, 2, 3, 4, 10, 3, 2, 4, 2, 2, 3, 2, 3, 6, 2, 2, 3, 2, 2, 4, 2, 2, 3, 2, 6, 2, 2, 2, 2, 5, 9, 2, 5, 2, 3, 2, 2, 5, 4, 4, 4, 4, 5, 2, 3, 2, 2, 6, 3, 6, 3, 4, 2, 3, 3, 5, 3, 4, 2, 5, 4, 3, 3, 4, 2, 3, 4, 4, 2, 3, 2, 2, 4, 3, 2, 3, 4, 3, 6, 2, 5, 5, 2, 4, 4, 4, 2, 3, 4, 3, 2, 2, 2, 2, 3, 9, 2, 6, 5, 4, 3, 2, 4, 2, 2, 3, 6, 3, 5, 3, 2, 7, 8, 3, 2, 2, 5, 2, 5, 2, 2, 6, 2, 5, 3, 2, 2, 8, 5, 5, 6, 3, 9, 7, 6, 2, 6, 2, 2, 5]\n",
      "[1, 63, 338, 782, 264, 865, 421, 598, 1, 409, 62, 1463, 733, 187, 13, 1135, 129, 21, 314, 143, 339, 22, 1068, 198, 1226, 103, 2230, 1, 12, 1, 1, 1, 176, 3, 3, 696, 321, 1, 1177, 59, 110, 298, 1460, 6, 100, 435, 386, 4, 16, 10, 6, 19, 1, 74, 24, 88, 272, 7, 3, 2, 763, 3, 6, 279, 7, 3, 36, 19, 62, 150, 12, 1, 7, 9, 4, 14, 6, 42, 2, 16, 6, 2, 13, 3, 6, 12, 3, 1, 10, 3, 11, 3, 6, 2, 18, 1, 28, 6, 136, 7, 1, 6, 10, 1, 1, 4, 3, 91, 1, 2, 20, 149, 174, 4, 3, 17, 7, 6, 1, 3, 3, 1, 6, 1, 3, 6, 1, 1, 1, 43, 6, 1, 15, 3, 6, 1, 4, 13, 2, 10, 7, 7, 20, 6, 1, 1, 1, 23, 10, 15, 15, 15, 8, 1, 1, 6, 1, 1, 6, 6, 3, 1, 1, 1, 30, 1, 6, 3, 3, 7, 3, 1, 2, 6, 1, 3, 1, 13, 6, 10, 18, 3, 1, 1, 6, 3, 6, 7, 15, 1, 3, 3, 1, 12, 1, 7, 10, 85, 1, 3, 6, 1, 3, 3, 6, 15, 10, 1, 1, 6, 6, 23, 3, 15, 1, 1, 1, 10, 1, 3, 21, 15, 1, 18, 3, 1, 6, 10, 1, 1, 36, 3, 11, 15, 3, 1, 2, 5, 3, 3, 15, 3, 1, 20, 10, 3, 6, 3, 1, 3, 3, 10, 3, 1, 3, 3, 3, 3, 1, 3, 1, 6, 1, 1, 4, 18, 3, 1, 6, 1, 1, 6, 6, 3, 1, 6, 1, 1, 3, 6, 3, 3, 16, 1, 1, 1, 3, 1, 3, 4, 1, 3, 3, 1, 15, 1, 3, 16, 16, 1, 15, 24, 1, 68, 10, 3, 6, 6, 13, 1, 1, 3, 1, 10, 36, 3, 3, 6, 1, 12, 6, 1, 3, 12, 45, 3, 1, 18, 1, 1, 3, 1, 3, 12, 1, 1, 3, 1, 1, 6, 1, 1, 3, 1, 9, 1, 1, 1, 1, 10, 20, 1, 10, 1, 3, 1, 1, 10, 6, 4, 6, 6, 10, 1, 3, 1, 1, 15, 3, 15, 3, 6, 1, 3, 3, 10, 3, 6, 1, 10, 6, 3, 3, 6, 1, 3, 6, 6, 1, 3, 1, 1, 12, 3, 1, 4, 6, 3, 15, 1, 10, 11, 1, 6, 6, 6, 1, 3, 7, 3, 1, 1, 1, 1, 3, 36, 1, 18, 10, 6, 3, 1, 6, 1, 1, 3, 9, 3, 10, 3, 1, 21, 23, 3, 1, 1, 10, 1, 10, 1, 1, 15, 1, 10, 3, 1, 1, 28, 10, 10, 15, 3, 36, 21, 15, 1, 15, 1, 1, 10]\n"
     ]
    }
   ],
   "source": [
    "print(nnodes)\n",
    "print(nedges)"
   ]
  },
  {
   "cell_type": "code",
   "execution_count": 50,
   "metadata": {},
   "outputs": [
    {
     "name": "stdout",
     "output_type": "stream",
     "text": [
      "Index(['community', 'edge_count', 'node_count'], dtype='object')\n"
     ]
    }
   ],
   "source": [
    "print(new_df.columns)"
   ]
  },
  {
   "cell_type": "code",
   "execution_count": 51,
   "metadata": {},
   "outputs": [],
   "source": [
    "new_df.to_csv(\"stats.csv\", index=False)"
   ]
  },
  {
   "cell_type": "code",
   "execution_count": null,
   "metadata": {},
   "outputs": [],
   "source": []
  }
 ],
 "metadata": {
  "kernelspec": {
   "display_name": "Python 3",
   "language": "python",
   "name": "python3"
  },
  "language_info": {
   "codemirror_mode": {
    "name": "ipython",
    "version": 3
   },
   "file_extension": ".py",
   "mimetype": "text/x-python",
   "name": "python",
   "nbconvert_exporter": "python",
   "pygments_lexer": "ipython3",
   "version": "3.11.2"
  },
  "orig_nbformat": 4
 },
 "nbformat": 4,
 "nbformat_minor": 2
}
